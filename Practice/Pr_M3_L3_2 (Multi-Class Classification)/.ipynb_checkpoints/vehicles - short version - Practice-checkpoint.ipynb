{
 "cells": [
  {
   "cell_type": "markdown",
   "metadata": {},
   "source": [
    "# \"Vehicles.\""
   ]
  },
  {
   "cell_type": "markdown",
   "metadata": {},
   "source": [
    "### _\"Recognizing vehicle type from its silhouette\" (Classification task)._"
   ]
  },
  {
   "cell_type": "markdown",
   "metadata": {},
   "source": [
    "## Table of Contents\n",
    "\n",
    "\n",
    "## Part 0: Introduction\n",
    "\n",
    "### Overview\n",
    "The dataset that's we see here contains 19 columns and 846 entries of data about vehicle types.\n",
    "    \n",
    "**Метаданные:**\n",
    "    \n",
    "* **Class (target)** \n",
    "\n",
    "* **COMPACTNESS**\n",
    "\n",
    "* **CIRCULARITY** \n",
    "\n",
    "* **DISTANCE_CIRCULARITY** \n",
    "\n",
    "* **RADIUS_RATIO** \n",
    "\n",
    "* **PR.AXIS_ASPECT_RATIO** \n",
    "\n",
    "* **MAX.LENGTH_ASPECT_RATIO**\n",
    "\n",
    "* **SCATTER_RATIO** \n",
    "\n",
    "* **ELONGATEDNESS** \n",
    "\n",
    "* **PR.AXIS_RECTANGULARITY** \n",
    "\n",
    "* **MAX.LENGTH_RECTANGULARITY** \n",
    "\n",
    "* **SCALED_VARIANCE_MAJOR** \n",
    "\n",
    "* **SCALED_VARIANCE_MINOR** \n",
    "\n",
    "* **SCALED_RADIUS_OF_GYRATION** \n",
    "\n",
    "* **SKEWNESS_ABOUT_MAJOR** \n",
    "\n",
    "* **SKEWNESS_ABOUT_MINOR** \n",
    "\n",
    "* **KURTOSIS_ABOUT_MAJOR** \n",
    "\n",
    "* **KURTOSIS_ABOUT_MINOR** \n",
    "\n",
    "* **HOLLOWS_RATIO** \n",
    "\n",
    "\n",
    "### Questions:\n",
    "    \n",
    "Определите класс транспортного средства по набору данных, описывающих геометрические особенности силуэтов транспортных средств, полученных по фотографиям для распознавания изображений (use multi-class classification; check balance of classes; calculate perdictions).\n",
    "\n",
    "\n",
    "## [Part 1: Import, Load Data](#Part-1:-Import,-Load-Data.)\n",
    "* ### Import libraries, Read data from ‘.csv’ file\n",
    "\n",
    "## [Part 2: Exploratory Data Analysis](#Part-2:-Exploratory-Data-Analysis.)\n",
    "* ### Info, Head, Describe\n",
    "* ### 'Class' attribute value counts and visualisation\n",
    "* ### Label encoder for 'Class' attribute\n",
    "* ### Vizualisation of all attributes\n",
    "* ### Correlation list and plot of each attribute\n",
    "* ### Drop column 'Class'\n",
    "\n",
    "## [Part 3: Data Wrangling and Transformation](#Part-3:-Data-Wrangling-and-Transformation.)\n",
    "* ### StandardScaler\n",
    "* ### Creating datasets for ML part\n",
    "* ### 'Train\\Test' splitting method\n",
    "\n",
    "## [Part 4: Machine Learning](#Part-4:-Machine-Learning.)\n",
    "* ### Build, train and evaluate model\n",
    "    * #### SVC \n",
    "    * #### Classification report\n",
    "    * #### Confusion Matrix\n",
    "    * #### Misclassification plot\n",
    "    * #### Comparison table between Actual 'Class' and Predicted 'Class'\n",
    "\n",
    "## [Conclusion](#Conclusion.)"
   ]
  },
  {
   "cell_type": "markdown",
   "metadata": {},
   "source": [
    "## Part 1: Import, Load Data."
   ]
  },
  {
   "cell_type": "markdown",
   "metadata": {},
   "source": [
    "* ### Import libraries"
   ]
  },
  {
   "cell_type": "code",
   "execution_count": 15,
   "metadata": {},
   "outputs": [],
   "source": [
    "# import standard libraries\n",
    "\n",
    "import numpy as np\n",
    "import pandas as pd\n",
    "import matplotlib.pyplot as plt\n",
    "import seaborn as sns\n",
    "from scipy import stats\n",
    "from scipy.stats import norm\n",
    "%matplotlib inline\n",
    "sns.set()\n",
    "\n",
    "import sklearn.metrics as metrics\n",
    "from sklearn.metrics import accuracy_score, confusion_matrix, classification_report \n",
    "from sklearn.model_selection import train_test_split \n",
    "from sklearn.preprocessing import LabelEncoder, StandardScaler\n",
    "\n",
    "from sklearn.svm import SVC\n",
    "\n",
    "\n",
    "from vehicles_helper import *\n",
    "\n",
    "import warnings\n",
    "warnings.filterwarnings('ignore')"
   ]
  },
  {
   "cell_type": "markdown",
   "metadata": {},
   "source": [
    "* ### Read data from ‘.csv’ file"
   ]
  },
  {
   "cell_type": "code",
   "execution_count": 2,
   "metadata": {},
   "outputs": [],
   "source": [
    "# read data from '.csv' file\n",
    "dataset = pd.read_csv('vehicles.csv') \n",
    "\n",
    "# initialisation of target\n",
    "target = dataset['Class']"
   ]
  },
  {
   "cell_type": "markdown",
   "metadata": {},
   "source": [
    "## Part 2: Exploratory Data Analysis."
   ]
  },
  {
   "cell_type": "markdown",
   "metadata": {},
   "source": [
    "* ### Info"
   ]
  },
  {
   "cell_type": "code",
   "execution_count": 3,
   "metadata": {
    "scrolled": true
   },
   "outputs": [
    {
     "name": "stdout",
     "output_type": "stream",
     "text": [
      "<class 'pandas.core.frame.DataFrame'>\n",
      "RangeIndex: 846 entries, 0 to 845\n",
      "Data columns (total 19 columns):\n",
      " #   Column                     Non-Null Count  Dtype \n",
      "---  ------                     --------------  ----- \n",
      " 0   COMPACTNESS                846 non-null    int64 \n",
      " 1   CIRCULARITY                846 non-null    int64 \n",
      " 2   DISTANCE_CIRCULARITY       846 non-null    int64 \n",
      " 3   RADIUS_RATIO               846 non-null    int64 \n",
      " 4   PR.AXIS_ASPECT_RATIO       846 non-null    int64 \n",
      " 5   MAX.LENGTH_ASPECT_RATIO    846 non-null    int64 \n",
      " 6   SCATTER_RATIO              846 non-null    int64 \n",
      " 7   ELONGATEDNESS              846 non-null    int64 \n",
      " 8   PR.AXIS_RECTANGULARITY     846 non-null    int64 \n",
      " 9   MAX.LENGTH_RECTANGULARITY  846 non-null    int64 \n",
      " 10  SCALED_VARIANCE_MAJOR      846 non-null    int64 \n",
      " 11  SCALED_VARIANCE_MINOR      846 non-null    int64 \n",
      " 12  SCALED_RADIUS_OF_GYRATION  846 non-null    int64 \n",
      " 13  SKEWNESS_ABOUT_MAJOR       846 non-null    int64 \n",
      " 14  SKEWNESS_ABOUT_MINOR       846 non-null    int64 \n",
      " 15  KURTOSIS_ABOUT_MAJOR       846 non-null    int64 \n",
      " 16  KURTOSIS_ABOUT_MINOR       846 non-null    int64 \n",
      " 17  HOLLOWS_RATIO              846 non-null    int64 \n",
      " 18  Class                      846 non-null    object\n",
      "dtypes: int64(18), object(1)\n",
      "memory usage: 125.7+ KB\n"
     ]
    }
   ],
   "source": [
    "# print the full summary of the dataset  \n",
    "dataset.info()"
   ]
  },
  {
   "cell_type": "markdown",
   "metadata": {},
   "source": [
    "* ### Head"
   ]
  },
  {
   "cell_type": "code",
   "execution_count": 4,
   "metadata": {},
   "outputs": [
    {
     "data": {
      "text/html": [
       "<div>\n",
       "<style scoped>\n",
       "    .dataframe tbody tr th:only-of-type {\n",
       "        vertical-align: middle;\n",
       "    }\n",
       "\n",
       "    .dataframe tbody tr th {\n",
       "        vertical-align: top;\n",
       "    }\n",
       "\n",
       "    .dataframe thead th {\n",
       "        text-align: right;\n",
       "    }\n",
       "</style>\n",
       "<table border=\"1\" class=\"dataframe\">\n",
       "  <thead>\n",
       "    <tr style=\"text-align: right;\">\n",
       "      <th></th>\n",
       "      <th>COMPACTNESS</th>\n",
       "      <th>CIRCULARITY</th>\n",
       "      <th>DISTANCE_CIRCULARITY</th>\n",
       "      <th>RADIUS_RATIO</th>\n",
       "      <th>PR.AXIS_ASPECT_RATIO</th>\n",
       "      <th>MAX.LENGTH_ASPECT_RATIO</th>\n",
       "      <th>SCATTER_RATIO</th>\n",
       "      <th>ELONGATEDNESS</th>\n",
       "      <th>PR.AXIS_RECTANGULARITY</th>\n",
       "      <th>MAX.LENGTH_RECTANGULARITY</th>\n",
       "      <th>SCALED_VARIANCE_MAJOR</th>\n",
       "      <th>SCALED_VARIANCE_MINOR</th>\n",
       "      <th>SCALED_RADIUS_OF_GYRATION</th>\n",
       "      <th>SKEWNESS_ABOUT_MAJOR</th>\n",
       "      <th>SKEWNESS_ABOUT_MINOR</th>\n",
       "      <th>KURTOSIS_ABOUT_MAJOR</th>\n",
       "      <th>KURTOSIS_ABOUT_MINOR</th>\n",
       "      <th>HOLLOWS_RATIO</th>\n",
       "      <th>Class</th>\n",
       "    </tr>\n",
       "  </thead>\n",
       "  <tbody>\n",
       "    <tr>\n",
       "      <th>0</th>\n",
       "      <td>95</td>\n",
       "      <td>48</td>\n",
       "      <td>83</td>\n",
       "      <td>178</td>\n",
       "      <td>72</td>\n",
       "      <td>10</td>\n",
       "      <td>162</td>\n",
       "      <td>42</td>\n",
       "      <td>20</td>\n",
       "      <td>159</td>\n",
       "      <td>176</td>\n",
       "      <td>379</td>\n",
       "      <td>184</td>\n",
       "      <td>70</td>\n",
       "      <td>6</td>\n",
       "      <td>16</td>\n",
       "      <td>187</td>\n",
       "      <td>197</td>\n",
       "      <td>van</td>\n",
       "    </tr>\n",
       "    <tr>\n",
       "      <th>1</th>\n",
       "      <td>91</td>\n",
       "      <td>41</td>\n",
       "      <td>84</td>\n",
       "      <td>141</td>\n",
       "      <td>57</td>\n",
       "      <td>9</td>\n",
       "      <td>149</td>\n",
       "      <td>45</td>\n",
       "      <td>19</td>\n",
       "      <td>143</td>\n",
       "      <td>170</td>\n",
       "      <td>330</td>\n",
       "      <td>158</td>\n",
       "      <td>72</td>\n",
       "      <td>9</td>\n",
       "      <td>14</td>\n",
       "      <td>189</td>\n",
       "      <td>199</td>\n",
       "      <td>van</td>\n",
       "    </tr>\n",
       "    <tr>\n",
       "      <th>2</th>\n",
       "      <td>104</td>\n",
       "      <td>50</td>\n",
       "      <td>106</td>\n",
       "      <td>209</td>\n",
       "      <td>66</td>\n",
       "      <td>10</td>\n",
       "      <td>207</td>\n",
       "      <td>32</td>\n",
       "      <td>23</td>\n",
       "      <td>158</td>\n",
       "      <td>223</td>\n",
       "      <td>635</td>\n",
       "      <td>220</td>\n",
       "      <td>73</td>\n",
       "      <td>14</td>\n",
       "      <td>9</td>\n",
       "      <td>188</td>\n",
       "      <td>196</td>\n",
       "      <td>saab</td>\n",
       "    </tr>\n",
       "    <tr>\n",
       "      <th>3</th>\n",
       "      <td>93</td>\n",
       "      <td>41</td>\n",
       "      <td>82</td>\n",
       "      <td>159</td>\n",
       "      <td>63</td>\n",
       "      <td>9</td>\n",
       "      <td>144</td>\n",
       "      <td>46</td>\n",
       "      <td>19</td>\n",
       "      <td>143</td>\n",
       "      <td>160</td>\n",
       "      <td>309</td>\n",
       "      <td>127</td>\n",
       "      <td>63</td>\n",
       "      <td>6</td>\n",
       "      <td>10</td>\n",
       "      <td>199</td>\n",
       "      <td>207</td>\n",
       "      <td>van</td>\n",
       "    </tr>\n",
       "    <tr>\n",
       "      <th>4</th>\n",
       "      <td>85</td>\n",
       "      <td>44</td>\n",
       "      <td>70</td>\n",
       "      <td>205</td>\n",
       "      <td>103</td>\n",
       "      <td>52</td>\n",
       "      <td>149</td>\n",
       "      <td>45</td>\n",
       "      <td>19</td>\n",
       "      <td>144</td>\n",
       "      <td>241</td>\n",
       "      <td>325</td>\n",
       "      <td>188</td>\n",
       "      <td>127</td>\n",
       "      <td>9</td>\n",
       "      <td>11</td>\n",
       "      <td>180</td>\n",
       "      <td>183</td>\n",
       "      <td>bus</td>\n",
       "    </tr>\n",
       "  </tbody>\n",
       "</table>\n",
       "</div>"
      ],
      "text/plain": [
       "   COMPACTNESS  CIRCULARITY  DISTANCE_CIRCULARITY  RADIUS_RATIO  \\\n",
       "0           95           48                    83           178   \n",
       "1           91           41                    84           141   \n",
       "2          104           50                   106           209   \n",
       "3           93           41                    82           159   \n",
       "4           85           44                    70           205   \n",
       "\n",
       "   PR.AXIS_ASPECT_RATIO  MAX.LENGTH_ASPECT_RATIO  SCATTER_RATIO  \\\n",
       "0                    72                       10            162   \n",
       "1                    57                        9            149   \n",
       "2                    66                       10            207   \n",
       "3                    63                        9            144   \n",
       "4                   103                       52            149   \n",
       "\n",
       "   ELONGATEDNESS  PR.AXIS_RECTANGULARITY  MAX.LENGTH_RECTANGULARITY  \\\n",
       "0             42                      20                        159   \n",
       "1             45                      19                        143   \n",
       "2             32                      23                        158   \n",
       "3             46                      19                        143   \n",
       "4             45                      19                        144   \n",
       "\n",
       "   SCALED_VARIANCE_MAJOR  SCALED_VARIANCE_MINOR  SCALED_RADIUS_OF_GYRATION  \\\n",
       "0                    176                    379                        184   \n",
       "1                    170                    330                        158   \n",
       "2                    223                    635                        220   \n",
       "3                    160                    309                        127   \n",
       "4                    241                    325                        188   \n",
       "\n",
       "   SKEWNESS_ABOUT_MAJOR  SKEWNESS_ABOUT_MINOR  KURTOSIS_ABOUT_MAJOR  \\\n",
       "0                    70                     6                    16   \n",
       "1                    72                     9                    14   \n",
       "2                    73                    14                     9   \n",
       "3                    63                     6                    10   \n",
       "4                   127                     9                    11   \n",
       "\n",
       "   KURTOSIS_ABOUT_MINOR  HOLLOWS_RATIO Class  \n",
       "0                   187            197   van  \n",
       "1                   189            199   van  \n",
       "2                   188            196  saab  \n",
       "3                   199            207   van  \n",
       "4                   180            183   bus  "
      ]
     },
     "execution_count": 4,
     "metadata": {},
     "output_type": "execute_result"
    }
   ],
   "source": [
    "# preview of the first 5 lines of the loaded data \n",
    "dataset.head()"
   ]
  },
  {
   "cell_type": "markdown",
   "metadata": {},
   "source": [
    "* ### Describe"
   ]
  },
  {
   "cell_type": "code",
   "execution_count": 6,
   "metadata": {},
   "outputs": [
    {
     "data": {
      "text/html": [
       "<div>\n",
       "<style scoped>\n",
       "    .dataframe tbody tr th:only-of-type {\n",
       "        vertical-align: middle;\n",
       "    }\n",
       "\n",
       "    .dataframe tbody tr th {\n",
       "        vertical-align: top;\n",
       "    }\n",
       "\n",
       "    .dataframe thead th {\n",
       "        text-align: right;\n",
       "    }\n",
       "</style>\n",
       "<table border=\"1\" class=\"dataframe\">\n",
       "  <thead>\n",
       "    <tr style=\"text-align: right;\">\n",
       "      <th></th>\n",
       "      <th>COMPACTNESS</th>\n",
       "      <th>CIRCULARITY</th>\n",
       "      <th>DISTANCE_CIRCULARITY</th>\n",
       "      <th>RADIUS_RATIO</th>\n",
       "      <th>PR.AXIS_ASPECT_RATIO</th>\n",
       "      <th>MAX.LENGTH_ASPECT_RATIO</th>\n",
       "      <th>SCATTER_RATIO</th>\n",
       "      <th>ELONGATEDNESS</th>\n",
       "      <th>PR.AXIS_RECTANGULARITY</th>\n",
       "      <th>MAX.LENGTH_RECTANGULARITY</th>\n",
       "      <th>SCALED_VARIANCE_MAJOR</th>\n",
       "      <th>SCALED_VARIANCE_MINOR</th>\n",
       "      <th>SCALED_RADIUS_OF_GYRATION</th>\n",
       "      <th>SKEWNESS_ABOUT_MAJOR</th>\n",
       "      <th>SKEWNESS_ABOUT_MINOR</th>\n",
       "      <th>KURTOSIS_ABOUT_MAJOR</th>\n",
       "      <th>KURTOSIS_ABOUT_MINOR</th>\n",
       "      <th>HOLLOWS_RATIO</th>\n",
       "    </tr>\n",
       "  </thead>\n",
       "  <tbody>\n",
       "    <tr>\n",
       "      <th>count</th>\n",
       "      <td>846.00</td>\n",
       "      <td>846.00</td>\n",
       "      <td>846.00</td>\n",
       "      <td>846.00</td>\n",
       "      <td>846.00</td>\n",
       "      <td>846.00</td>\n",
       "      <td>846.00</td>\n",
       "      <td>846.00</td>\n",
       "      <td>846.00</td>\n",
       "      <td>846.00</td>\n",
       "      <td>846.00</td>\n",
       "      <td>846.00</td>\n",
       "      <td>846.00</td>\n",
       "      <td>846.00</td>\n",
       "      <td>846.00</td>\n",
       "      <td>846.00</td>\n",
       "      <td>846.00</td>\n",
       "      <td>846.00</td>\n",
       "    </tr>\n",
       "    <tr>\n",
       "      <th>mean</th>\n",
       "      <td>93.68</td>\n",
       "      <td>44.86</td>\n",
       "      <td>82.09</td>\n",
       "      <td>168.94</td>\n",
       "      <td>61.69</td>\n",
       "      <td>8.57</td>\n",
       "      <td>168.84</td>\n",
       "      <td>40.93</td>\n",
       "      <td>20.58</td>\n",
       "      <td>148.00</td>\n",
       "      <td>188.63</td>\n",
       "      <td>439.91</td>\n",
       "      <td>174.70</td>\n",
       "      <td>72.46</td>\n",
       "      <td>6.38</td>\n",
       "      <td>12.60</td>\n",
       "      <td>188.93</td>\n",
       "      <td>195.63</td>\n",
       "    </tr>\n",
       "    <tr>\n",
       "      <th>std</th>\n",
       "      <td>8.23</td>\n",
       "      <td>6.17</td>\n",
       "      <td>15.77</td>\n",
       "      <td>33.47</td>\n",
       "      <td>7.89</td>\n",
       "      <td>4.60</td>\n",
       "      <td>33.24</td>\n",
       "      <td>7.81</td>\n",
       "      <td>2.59</td>\n",
       "      <td>14.52</td>\n",
       "      <td>31.39</td>\n",
       "      <td>176.69</td>\n",
       "      <td>32.55</td>\n",
       "      <td>7.49</td>\n",
       "      <td>4.92</td>\n",
       "      <td>8.93</td>\n",
       "      <td>6.16</td>\n",
       "      <td>7.44</td>\n",
       "    </tr>\n",
       "    <tr>\n",
       "      <th>min</th>\n",
       "      <td>73.00</td>\n",
       "      <td>33.00</td>\n",
       "      <td>40.00</td>\n",
       "      <td>104.00</td>\n",
       "      <td>47.00</td>\n",
       "      <td>2.00</td>\n",
       "      <td>112.00</td>\n",
       "      <td>26.00</td>\n",
       "      <td>17.00</td>\n",
       "      <td>118.00</td>\n",
       "      <td>130.00</td>\n",
       "      <td>184.00</td>\n",
       "      <td>109.00</td>\n",
       "      <td>59.00</td>\n",
       "      <td>0.00</td>\n",
       "      <td>0.00</td>\n",
       "      <td>176.00</td>\n",
       "      <td>181.00</td>\n",
       "    </tr>\n",
       "    <tr>\n",
       "      <th>25%</th>\n",
       "      <td>87.00</td>\n",
       "      <td>40.00</td>\n",
       "      <td>70.00</td>\n",
       "      <td>141.00</td>\n",
       "      <td>57.00</td>\n",
       "      <td>7.00</td>\n",
       "      <td>146.25</td>\n",
       "      <td>33.00</td>\n",
       "      <td>19.00</td>\n",
       "      <td>137.00</td>\n",
       "      <td>167.00</td>\n",
       "      <td>318.25</td>\n",
       "      <td>149.00</td>\n",
       "      <td>67.00</td>\n",
       "      <td>2.00</td>\n",
       "      <td>5.00</td>\n",
       "      <td>184.00</td>\n",
       "      <td>190.25</td>\n",
       "    </tr>\n",
       "    <tr>\n",
       "      <th>50%</th>\n",
       "      <td>93.00</td>\n",
       "      <td>44.00</td>\n",
       "      <td>80.00</td>\n",
       "      <td>167.00</td>\n",
       "      <td>61.00</td>\n",
       "      <td>8.00</td>\n",
       "      <td>157.00</td>\n",
       "      <td>43.00</td>\n",
       "      <td>20.00</td>\n",
       "      <td>146.00</td>\n",
       "      <td>178.50</td>\n",
       "      <td>364.00</td>\n",
       "      <td>173.00</td>\n",
       "      <td>71.50</td>\n",
       "      <td>6.00</td>\n",
       "      <td>11.00</td>\n",
       "      <td>188.00</td>\n",
       "      <td>197.00</td>\n",
       "    </tr>\n",
       "    <tr>\n",
       "      <th>75%</th>\n",
       "      <td>100.00</td>\n",
       "      <td>49.00</td>\n",
       "      <td>98.00</td>\n",
       "      <td>195.00</td>\n",
       "      <td>65.00</td>\n",
       "      <td>10.00</td>\n",
       "      <td>198.00</td>\n",
       "      <td>46.00</td>\n",
       "      <td>23.00</td>\n",
       "      <td>159.00</td>\n",
       "      <td>217.00</td>\n",
       "      <td>587.00</td>\n",
       "      <td>198.00</td>\n",
       "      <td>75.00</td>\n",
       "      <td>9.00</td>\n",
       "      <td>19.00</td>\n",
       "      <td>193.00</td>\n",
       "      <td>201.00</td>\n",
       "    </tr>\n",
       "    <tr>\n",
       "      <th>max</th>\n",
       "      <td>119.00</td>\n",
       "      <td>59.00</td>\n",
       "      <td>112.00</td>\n",
       "      <td>333.00</td>\n",
       "      <td>138.00</td>\n",
       "      <td>55.00</td>\n",
       "      <td>265.00</td>\n",
       "      <td>61.00</td>\n",
       "      <td>29.00</td>\n",
       "      <td>188.00</td>\n",
       "      <td>320.00</td>\n",
       "      <td>1018.00</td>\n",
       "      <td>268.00</td>\n",
       "      <td>135.00</td>\n",
       "      <td>22.00</td>\n",
       "      <td>41.00</td>\n",
       "      <td>206.00</td>\n",
       "      <td>211.00</td>\n",
       "    </tr>\n",
       "  </tbody>\n",
       "</table>\n",
       "</div>"
      ],
      "text/plain": [
       "       COMPACTNESS  CIRCULARITY  DISTANCE_CIRCULARITY  RADIUS_RATIO  \\\n",
       "count       846.00       846.00                846.00        846.00   \n",
       "mean         93.68        44.86                 82.09        168.94   \n",
       "std           8.23         6.17                 15.77         33.47   \n",
       "min          73.00        33.00                 40.00        104.00   \n",
       "25%          87.00        40.00                 70.00        141.00   \n",
       "50%          93.00        44.00                 80.00        167.00   \n",
       "75%         100.00        49.00                 98.00        195.00   \n",
       "max         119.00        59.00                112.00        333.00   \n",
       "\n",
       "       PR.AXIS_ASPECT_RATIO  MAX.LENGTH_ASPECT_RATIO  SCATTER_RATIO  \\\n",
       "count                846.00                   846.00         846.00   \n",
       "mean                  61.69                     8.57         168.84   \n",
       "std                    7.89                     4.60          33.24   \n",
       "min                   47.00                     2.00         112.00   \n",
       "25%                   57.00                     7.00         146.25   \n",
       "50%                   61.00                     8.00         157.00   \n",
       "75%                   65.00                    10.00         198.00   \n",
       "max                  138.00                    55.00         265.00   \n",
       "\n",
       "       ELONGATEDNESS  PR.AXIS_RECTANGULARITY  MAX.LENGTH_RECTANGULARITY  \\\n",
       "count         846.00                  846.00                     846.00   \n",
       "mean           40.93                   20.58                     148.00   \n",
       "std             7.81                    2.59                      14.52   \n",
       "min            26.00                   17.00                     118.00   \n",
       "25%            33.00                   19.00                     137.00   \n",
       "50%            43.00                   20.00                     146.00   \n",
       "75%            46.00                   23.00                     159.00   \n",
       "max            61.00                   29.00                     188.00   \n",
       "\n",
       "       SCALED_VARIANCE_MAJOR  SCALED_VARIANCE_MINOR  \\\n",
       "count                 846.00                 846.00   \n",
       "mean                  188.63                 439.91   \n",
       "std                    31.39                 176.69   \n",
       "min                   130.00                 184.00   \n",
       "25%                   167.00                 318.25   \n",
       "50%                   178.50                 364.00   \n",
       "75%                   217.00                 587.00   \n",
       "max                   320.00                1018.00   \n",
       "\n",
       "       SCALED_RADIUS_OF_GYRATION  SKEWNESS_ABOUT_MAJOR  SKEWNESS_ABOUT_MINOR  \\\n",
       "count                     846.00                846.00                846.00   \n",
       "mean                      174.70                 72.46                  6.38   \n",
       "std                        32.55                  7.49                  4.92   \n",
       "min                       109.00                 59.00                  0.00   \n",
       "25%                       149.00                 67.00                  2.00   \n",
       "50%                       173.00                 71.50                  6.00   \n",
       "75%                       198.00                 75.00                  9.00   \n",
       "max                       268.00                135.00                 22.00   \n",
       "\n",
       "       KURTOSIS_ABOUT_MAJOR  KURTOSIS_ABOUT_MINOR  HOLLOWS_RATIO  \n",
       "count                846.00                846.00         846.00  \n",
       "mean                  12.60                188.93         195.63  \n",
       "std                    8.93                  6.16           7.44  \n",
       "min                    0.00                176.00         181.00  \n",
       "25%                    5.00                184.00         190.25  \n",
       "50%                   11.00                188.00         197.00  \n",
       "75%                   19.00                193.00         201.00  \n",
       "max                   41.00                206.00         211.00  "
      ]
     },
     "execution_count": 6,
     "metadata": {},
     "output_type": "execute_result"
    }
   ],
   "source": [
    "dataset.describe().round(2)"
   ]
  },
  {
   "cell_type": "markdown",
   "metadata": {},
   "source": [
    "* ### 'Class' attribute value counts and visualisation"
   ]
  },
  {
   "cell_type": "code",
   "execution_count": 16,
   "metadata": {},
   "outputs": [
    {
     "ename": "NameError",
     "evalue": "name 'target_attributes_counts' is not defined",
     "output_type": "error",
     "traceback": [
      "\u001b[1;31m---------------------------------------------------------------------------\u001b[0m",
      "\u001b[1;31mNameError\u001b[0m                                 Traceback (most recent call last)",
      "Cell \u001b[1;32mIn[16], line 2\u001b[0m\n\u001b[0;32m      1\u001b[0m \u001b[38;5;66;03m# target attribute value counts and visualisation\u001b[39;00m\n\u001b[1;32m----> 2\u001b[0m \u001b[43mtarget_attributes_counts\u001b[49m(dataset)\n",
      "\u001b[1;31mNameError\u001b[0m: name 'target_attributes_counts' is not defined"
     ]
    }
   ],
   "source": [
    "# target attribute value counts and visualisation\n",
    "target_attributes_counts(dataset)"
   ]
  },
  {
   "cell_type": "markdown",
   "metadata": {},
   "source": [
    "Our dataset is balanced."
   ]
  },
  {
   "cell_type": "markdown",
   "metadata": {},
   "source": [
    "* ### Label encoder for 'Class' attribute"
   ]
  },
  {
   "cell_type": "code",
   "execution_count": 23,
   "metadata": {
    "scrolled": true
   },
   "outputs": [],
   "source": [
    "# label encoder for 'Class' attribute\n"
   ]
  },
  {
   "cell_type": "markdown",
   "metadata": {},
   "source": [
    "* ###  Vizualisation of all attributes"
   ]
  },
  {
   "cell_type": "code",
   "execution_count": 24,
   "metadata": {},
   "outputs": [],
   "source": [
    "# vizualisation of all attributes\n"
   ]
  },
  {
   "cell_type": "code",
   "execution_count": null,
   "metadata": {
    "scrolled": false
   },
   "outputs": [],
   "source": []
  },
  {
   "cell_type": "markdown",
   "metadata": {},
   "source": [
    "* ###  Correlation list and plot of each attribute"
   ]
  },
  {
   "cell_type": "code",
   "execution_count": 25,
   "metadata": {},
   "outputs": [],
   "source": [
    "# correlation list and plot of each attribute\n"
   ]
  },
  {
   "cell_type": "markdown",
   "metadata": {},
   "source": [
    "* ### Drop column 'Class'"
   ]
  },
  {
   "cell_type": "code",
   "execution_count": null,
   "metadata": {},
   "outputs": [],
   "source": []
  },
  {
   "cell_type": "markdown",
   "metadata": {},
   "source": [
    "## Part 3: Data Wrangling and Transformation."
   ]
  },
  {
   "cell_type": "markdown",
   "metadata": {},
   "source": [
    "* ### StandardScaler"
   ]
  },
  {
   "cell_type": "code",
   "execution_count": 26,
   "metadata": {},
   "outputs": [],
   "source": [
    "# StandardScaler \n"
   ]
  },
  {
   "cell_type": "markdown",
   "metadata": {},
   "source": [
    "* ### Creating datasets for ML part"
   ]
  },
  {
   "cell_type": "code",
   "execution_count": 27,
   "metadata": {},
   "outputs": [],
   "source": [
    "# set 'X' for features' and y' for the target ('Class').\n"
   ]
  },
  {
   "cell_type": "markdown",
   "metadata": {},
   "source": [
    "* ### 'Train\\Test' split"
   ]
  },
  {
   "cell_type": "code",
   "execution_count": 28,
   "metadata": {},
   "outputs": [],
   "source": [
    "# apply 'Train\\Test' splitting method\n"
   ]
  },
  {
   "cell_type": "code",
   "execution_count": 29,
   "metadata": {},
   "outputs": [],
   "source": [
    "# print shape of X_train and y_train\n"
   ]
  },
  {
   "cell_type": "code",
   "execution_count": 30,
   "metadata": {
    "scrolled": true
   },
   "outputs": [],
   "source": [
    "# print shape of X_test and y_test\n"
   ]
  },
  {
   "cell_type": "markdown",
   "metadata": {},
   "source": [
    "## Part 4: Machine Learning."
   ]
  },
  {
   "cell_type": "markdown",
   "metadata": {},
   "source": [
    "* ### Build, train and evaluate model"
   ]
  },
  {
   "cell_type": "markdown",
   "metadata": {},
   "source": [
    "* SVC model"
   ]
  },
  {
   "cell_type": "code",
   "execution_count": null,
   "metadata": {},
   "outputs": [],
   "source": []
  },
  {
   "cell_type": "markdown",
   "metadata": {},
   "source": [
    "* ### Classification report"
   ]
  },
  {
   "cell_type": "code",
   "execution_count": null,
   "metadata": {},
   "outputs": [],
   "source": []
  },
  {
   "cell_type": "markdown",
   "metadata": {},
   "source": [
    "* ### Confusion matrix"
   ]
  },
  {
   "cell_type": "code",
   "execution_count": 31,
   "metadata": {
    "scrolled": true
   },
   "outputs": [],
   "source": [
    "# confusion matrix of SVC model\n"
   ]
  },
  {
   "cell_type": "markdown",
   "metadata": {},
   "source": [
    "* ### Misclassification plot"
   ]
  },
  {
   "cell_type": "code",
   "execution_count": 32,
   "metadata": {},
   "outputs": [],
   "source": [
    "# misclassification vehicle plot \n"
   ]
  },
  {
   "cell_type": "markdown",
   "metadata": {},
   "source": [
    "* ### Comparison table between Actual 'Class' and Predicted 'Class'"
   ]
  },
  {
   "cell_type": "code",
   "execution_count": 33,
   "metadata": {},
   "outputs": [],
   "source": [
    "# comparison table between Actual 'Class' and Predicted 'Class'\n",
    "\n"
   ]
  },
  {
   "cell_type": "markdown",
   "metadata": {},
   "source": [
    "##  Conclusion."
   ]
  },
  {
   "cell_type": "code",
   "execution_count": 34,
   "metadata": {},
   "outputs": [],
   "source": [
    "# submission of .csv file with test predictions\n"
   ]
  },
  {
   "cell_type": "code",
   "execution_count": null,
   "metadata": {},
   "outputs": [],
   "source": []
  }
 ],
 "metadata": {
  "kernelspec": {
   "display_name": "Python 3 (ipykernel)",
   "language": "python",
   "name": "python3"
  },
  "language_info": {
   "codemirror_mode": {
    "name": "ipython",
    "version": 3
   },
   "file_extension": ".py",
   "mimetype": "text/x-python",
   "name": "python",
   "nbconvert_exporter": "python",
   "pygments_lexer": "ipython3",
   "version": "3.10.5"
  }
 },
 "nbformat": 4,
 "nbformat_minor": 2
}
