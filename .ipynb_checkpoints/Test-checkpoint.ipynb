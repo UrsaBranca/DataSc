{
 "cells": [
  {
   "cell_type": "code",
   "execution_count": 1,
   "id": "4131bf57",
   "metadata": {},
   "outputs": [],
   "source": [
    "# import standard libraries\n",
    "\n",
    "import numpy as np\n",
    "import pandas as pd\n"
   ]
  },
  {
   "cell_type": "code",
   "execution_count": 3,
   "id": "7e302dc2",
   "metadata": {},
   "outputs": [
    {
     "data": {
      "text/html": [
       "<div>\n",
       "<style scoped>\n",
       "    .dataframe tbody tr th:only-of-type {\n",
       "        vertical-align: middle;\n",
       "    }\n",
       "\n",
       "    .dataframe tbody tr th {\n",
       "        vertical-align: top;\n",
       "    }\n",
       "\n",
       "    .dataframe thead th {\n",
       "        text-align: right;\n",
       "    }\n",
       "</style>\n",
       "<table border=\"1\" class=\"dataframe\">\n",
       "  <thead>\n",
       "    <tr style=\"text-align: right;\">\n",
       "      <th></th>\n",
       "      <th>word</th>\n",
       "      <th>lemma</th>\n",
       "      <th>atag</th>\n",
       "    </tr>\n",
       "  </thead>\n",
       "  <tbody>\n",
       "    <tr>\n",
       "      <th>0</th>\n",
       "      <td>@TEOTD</td>\n",
       "      <td>At the end of the day</td>\n",
       "      <td>Ab</td>\n",
       "    </tr>\n",
       "    <tr>\n",
       "      <th>1</th>\n",
       "      <td>0FB</td>\n",
       "      <td>Zero feedback; refers to a new member</td>\n",
       "      <td>Ab</td>\n",
       "    </tr>\n",
       "    <tr>\n",
       "      <th>2</th>\n",
       "      <td>10M</td>\n",
       "      <td>Ten man as in ten man squad in online gaming</td>\n",
       "      <td>Ab</td>\n",
       "    </tr>\n",
       "    <tr>\n",
       "      <th>3</th>\n",
       "      <td>10Q</td>\n",
       "      <td>Thank you</td>\n",
       "      <td>Ab</td>\n",
       "    </tr>\n",
       "    <tr>\n",
       "      <th>4</th>\n",
       "      <td>10X</td>\n",
       "      <td>Thanks</td>\n",
       "      <td>Ab</td>\n",
       "    </tr>\n",
       "  </tbody>\n",
       "</table>\n",
       "</div>"
      ],
      "text/plain": [
       "     word                                         lemma atag\n",
       "0  @TEOTD                         At the end of the day   Ab\n",
       "1     0FB         Zero feedback; refers to a new member   Ab\n",
       "2     10M  Ten man as in ten man squad in online gaming   Ab\n",
       "3     10Q                                     Thank you   Ab\n",
       "4     10X                                        Thanks   Ab"
      ]
     },
     "execution_count": 3,
     "metadata": {},
     "output_type": "execute_result"
    }
   ],
   "source": [
    "df = pd.read_csv('abs.csv')    # если кодировка не UTF-8, то либо сохранить в ней через Блокнот, либо добавить в скобки \", encoding='ISO-8859-1\"'\n",
    "df.head()"
   ]
  },
  {
   "cell_type": "code",
   "execution_count": 4,
   "id": "bff0164b",
   "metadata": {},
   "outputs": [
    {
     "data": {
      "text/html": [
       "<div>\n",
       "<style scoped>\n",
       "    .dataframe tbody tr th:only-of-type {\n",
       "        vertical-align: middle;\n",
       "    }\n",
       "\n",
       "    .dataframe tbody tr th {\n",
       "        vertical-align: top;\n",
       "    }\n",
       "\n",
       "    .dataframe thead th {\n",
       "        text-align: right;\n",
       "    }\n",
       "</style>\n",
       "<table border=\"1\" class=\"dataframe\">\n",
       "  <thead>\n",
       "    <tr style=\"text-align: right;\">\n",
       "      <th></th>\n",
       "      <th>lemma</th>\n",
       "      <th>atag</th>\n",
       "    </tr>\n",
       "    <tr>\n",
       "      <th>word</th>\n",
       "      <th></th>\n",
       "      <th></th>\n",
       "    </tr>\n",
       "  </thead>\n",
       "  <tbody>\n",
       "    <tr>\n",
       "      <th>@TEOTD</th>\n",
       "      <td>At the end of the day</td>\n",
       "      <td>Ab</td>\n",
       "    </tr>\n",
       "    <tr>\n",
       "      <th>0FB</th>\n",
       "      <td>Zero feedback; refers to a new member</td>\n",
       "      <td>Ab</td>\n",
       "    </tr>\n",
       "    <tr>\n",
       "      <th>10M</th>\n",
       "      <td>Ten man as in ten man squad in online gaming</td>\n",
       "      <td>Ab</td>\n",
       "    </tr>\n",
       "    <tr>\n",
       "      <th>10Q</th>\n",
       "      <td>Thank you</td>\n",
       "      <td>Ab</td>\n",
       "    </tr>\n",
       "    <tr>\n",
       "      <th>10X</th>\n",
       "      <td>Thanks</td>\n",
       "      <td>Ab</td>\n",
       "    </tr>\n",
       "  </tbody>\n",
       "</table>\n",
       "</div>"
      ],
      "text/plain": [
       "                                               lemma atag\n",
       "word                                                     \n",
       "@TEOTD                         At the end of the day   Ab\n",
       "0FB            Zero feedback; refers to a new member   Ab\n",
       "10M     Ten man as in ten man squad in online gaming   Ab\n",
       "10Q                                        Thank you   Ab\n",
       "10X                                           Thanks   Ab"
      ]
     },
     "execution_count": 4,
     "metadata": {},
     "output_type": "execute_result"
    }
   ],
   "source": [
    "df = df.set_index('word')\n",
    "df.head()"
   ]
  },
  {
   "cell_type": "code",
   "execution_count": 5,
   "id": "73c36d56",
   "metadata": {},
   "outputs": [
    {
     "data": {
      "text/plain": [
       "Index(['@TEOTD', '0FB', '10M', '10Q', '10X', '14AA41', '1CE', '1Day', '1DR',\n",
       "       '1NAM', '1TG; 2TG', '1TO', '1UP', '2B', '2BH', '2DAY', '2day ', '2EZ'],\n",
       "      dtype='object', name='word')"
      ]
     },
     "execution_count": 5,
     "metadata": {},
     "output_type": "execute_result"
    }
   ],
   "source": [
    "df.index"
   ]
  },
  {
   "cell_type": "code",
   "execution_count": 6,
   "id": "e2d82e7c",
   "metadata": {},
   "outputs": [
    {
     "data": {
      "text/plain": [
       "{'@TEOTD': {'lemma': 'At the end of the day', 'atag': 'Ab'},\n",
       " '0FB': {'lemma': 'Zero feedback; refers to a new member', 'atag': 'Ab'},\n",
       " '10M': {'lemma': 'Ten man as in ten man squad in online gaming',\n",
       "  'atag': 'Ab'},\n",
       " '10Q': {'lemma': 'Thank you', 'atag': 'Ab'},\n",
       " '10X': {'lemma': 'Thanks', 'atag': 'Ab'},\n",
       " '14AA41': {'lemma': 'One for all; and all for one', 'atag': 'Ab'},\n",
       " '1CE': {'lemma': 'Once', 'atag': 'Ab'},\n",
       " '1Day': {'lemma': 'A one day auction/listing', 'atag': 'Ab'},\n",
       " '1DR': {'lemma': 'I wonder', 'atag': 'Ab'},\n",
       " '1NAM': {'lemma': 'One in a million', 'atag': 'Ab'},\n",
       " '1TG; 2TG': {'lemma': '1 to go or 2 to go. Meaning number of items needed for win (online bingo)',\n",
       "  'atag': 'Ab'},\n",
       " '1TO': {'lemma': 'One time only', 'atag': 'Ab'},\n",
       " '1UP': {'lemma': 'Meaning extra life (online gaming)', 'atag': 'Ab'},\n",
       " '2B': {'lemma': 'To Be', 'atag': 'Ab'},\n",
       " '2BH': {'lemma': 'To Be Honest', 'atag': 'Ab'},\n",
       " '2DAY': {'lemma': 'Today', 'atag': 'Ab'},\n",
       " '2day\\xa0': {'lemma': ' Today', 'atag': 'Ab'},\n",
       " '2EZ': {'lemma': 'Too Easy', 'atag': 'Ab'}}"
      ]
     },
     "execution_count": 6,
     "metadata": {},
     "output_type": "execute_result"
    }
   ],
   "source": [
    "dict = df.to_dict('index')\n",
    "dict"
   ]
  },
  {
   "cell_type": "code",
   "execution_count": 7,
   "id": "bf11b3f6",
   "metadata": {},
   "outputs": [
    {
     "data": {
      "text/plain": [
       "{'lemma': 'Zero feedback; refers to a new member', 'atag': 'Ab'}"
      ]
     },
     "execution_count": 7,
     "metadata": {},
     "output_type": "execute_result"
    }
   ],
   "source": [
    "current_key = '0FB'\n",
    "dict[current_key]"
   ]
  },
  {
   "cell_type": "code",
   "execution_count": 8,
   "id": "6c3ba004",
   "metadata": {},
   "outputs": [
    {
     "data": {
      "text/plain": [
       "'Zero feedback; refers to a new member'"
      ]
     },
     "execution_count": 8,
     "metadata": {},
     "output_type": "execute_result"
    }
   ],
   "source": [
    "dict[current_key]['lemma']"
   ]
  },
  {
   "cell_type": "code",
   "execution_count": null,
   "id": "fe1a7f9c",
   "metadata": {},
   "outputs": [],
   "source": []
  }
 ],
 "metadata": {
  "kernelspec": {
   "display_name": "Python 3 (ipykernel)",
   "language": "python",
   "name": "python3"
  },
  "language_info": {
   "codemirror_mode": {
    "name": "ipython",
    "version": 3
   },
   "file_extension": ".py",
   "mimetype": "text/x-python",
   "name": "python",
   "nbconvert_exporter": "python",
   "pygments_lexer": "ipython3",
   "version": "3.10.5"
  }
 },
 "nbformat": 4,
 "nbformat_minor": 5
}
