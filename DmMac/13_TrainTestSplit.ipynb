{
  "nbformat": 4,
  "nbformat_minor": 0,
  "metadata": {
    "colab": {
      "provenance": [],
      "toc_visible": true
    },
    "kernelspec": {
      "name": "python3",
      "display_name": "Python 3"
    },
    "language_info": {
      "name": "python"
    }
  },
  "cells": [
    {
      "cell_type": "markdown",
      "metadata": {
        "id": "W9E8T-SfRSAK"
      },
      "source": [
        "## На каких данных обучать модель"
      ]
    },
    {
      "cell_type": "markdown",
      "metadata": {
        "id": "dSZ2i3r5RWiz"
      },
      "source": [
        "### Разделение на обучающую и тестовую выборки в Scikit-learn"
      ]
    },
    {
      "cell_type": "code",
      "metadata": {
        "id": "UBkshAEeHYb3"
      },
      "source": [
        "# возьмем данные роста (X) и обхвата шеи (y)\n",
        "X = [1.48, 1.49, 1.49, 1.50, 1.51, 1.52, 1.52, 1.53, 1.53, 1.54, 1.55, 1.56, 1.57, 1.57, 1.58, 1.58, 1.59, 1.60, 1.61, 1.62, 1.63, 1.64, 1.65, 1.65, 1.66, 1.67, 1.67, 1.68, 1.68,  1.69, 1.70, 1.70, 1.71, 1.71, 1.71, 1.74, 1.75, 1.76, 1.77, 1.77, 1.78]\n",
        "y = [29.1, 30.0, 30.1, 30.2, 30.4, 30.6, 30.8, 30.9, 31.0, 30.6, 30.7, 30.9, 31.0, 31.2, 31.3, 32.0, 31.4, 31.9, 32.4, 32.8, 32.8, 33.3, 33.6, 33.0, 33.9, 33.8, 35.0, 34.5, 34.7, 34.6, 34.2, 34.8, 35.5, 36.0, 36.2, 36.3, 36.6, 36.8, 36.8, 37.0, 38.5]"
      ],
      "execution_count": 1,
      "outputs": []
    },
    {
      "cell_type": "code",
      "metadata": {
        "id": "YrmQVqffaJSW"
      },
      "source": [
        "# импортируем библиотеку Numpy\n",
        "import numpy as np\n",
        "\n",
        "# преобразуем наш список X сначала в одномерный массив Numpy, а затем добавим второе измерение\n",
        "X = np.array(X).reshape(-1, 1)\n",
        "\n",
        "# список y достаточно преобразовать в одномерный массив Numpy\n",
        "y = np.array(y)"
      ],
      "execution_count": 2,
      "outputs": []
    },
    {
      "cell_type": "code",
      "metadata": {
        "id": "IRygF5UGaMLi"
      },
      "source": [
        "# из модуля model_selection библиотеки sklearn импортируем функцию train_test_split\n",
        "from sklearn.model_selection import train_test_split\n",
        "\n",
        "# разбиваем данные на четыре части\n",
        "# названия переменных могут быть любыми, но обычно используют именно их\n",
        "# также задаем размер тестовой выборки (30%) и точку отсчета для воспроизводимости\n",
        "X_train, X_test, y_train, y_test = train_test_split(X, y,\n",
        "                                                    test_size = 0.3,\n",
        "                                                    random_state = 42)"
      ],
      "execution_count": 3,
      "outputs": []
    },
    {
      "cell_type": "code",
      "metadata": {
        "colab": {
          "base_uri": "https://localhost:8080/"
        },
        "id": "DDu55g8rjqV6",
        "outputId": "6464d614-81b8-4f86-9e1e-5c7f19da196e"
      },
      "source": [
        "# посмотрим на размер массива признаков (X)\n",
        "X.shape"
      ],
      "execution_count": 4,
      "outputs": [
        {
          "output_type": "execute_result",
          "data": {
            "text/plain": [
              "(41, 1)"
            ]
          },
          "metadata": {},
          "execution_count": 4
        }
      ]
    },
    {
      "cell_type": "code",
      "metadata": {
        "colab": {
          "base_uri": "https://localhost:8080/"
        },
        "id": "2zT8-t7Ojukx",
        "outputId": "e11165ff-94ab-46a0-cea0-0c8f36b08acf"
      },
      "source": [
        "# теперь посмотрим, что сделала функция train_test_split\n",
        "print(X_train.shape, X_test.shape)"
      ],
      "execution_count": 5,
      "outputs": [
        {
          "output_type": "stream",
          "name": "stdout",
          "text": [
            "(28, 1) (13, 1)\n"
          ]
        }
      ]
    },
    {
      "cell_type": "code",
      "metadata": {
        "colab": {
          "base_uri": "https://localhost:8080/"
        },
        "id": "sWQUkNavtS1M",
        "outputId": "02848858-21e0-434a-edf7-bb5ef519f566"
      },
      "source": [
        "# то же самое для данных окружности шеи (целевой переменной y)\n",
        "print(y.shape, y_train.shape, y_test.shape)"
      ],
      "execution_count": 6,
      "outputs": [
        {
          "output_type": "stream",
          "name": "stdout",
          "text": [
            "(41,) (28,) (13,)\n"
          ]
        }
      ]
    },
    {
      "cell_type": "markdown",
      "metadata": {
        "id": "Sytz_ErHl_JD"
      },
      "source": [
        "### Построение модели линейной регрессии"
      ]
    },
    {
      "cell_type": "code",
      "metadata": {
        "colab": {
          "base_uri": "https://localhost:8080/",
          "height": 74
        },
        "id": "z0wvPkLUjxSh",
        "outputId": "5c08cdf4-625c-4088-b3ca-2d71498c0cc2"
      },
      "source": [
        "# из набора линейных моделей библиотеки sklearn импортируем линейную регрессию\n",
        "from sklearn.linear_model import LinearRegression\n",
        "\n",
        "# создадим объект этого класса и запишем в переменную model\n",
        "model = LinearRegression()\n",
        "\n",
        "# обучим нашу модель\n",
        "# т.е. найдем те самые веса или наклон и сдвиг прямой с помощью функции потерь\n",
        "# только теперь используем только обучающую выборку\n",
        "model.fit(X_train, y_train)"
      ],
      "execution_count": 7,
      "outputs": [
        {
          "output_type": "execute_result",
          "data": {
            "text/plain": [
              "LinearRegression()"
            ],
            "text/html": [
              "<style>#sk-container-id-1 {color: black;background-color: white;}#sk-container-id-1 pre{padding: 0;}#sk-container-id-1 div.sk-toggleable {background-color: white;}#sk-container-id-1 label.sk-toggleable__label {cursor: pointer;display: block;width: 100%;margin-bottom: 0;padding: 0.3em;box-sizing: border-box;text-align: center;}#sk-container-id-1 label.sk-toggleable__label-arrow:before {content: \"▸\";float: left;margin-right: 0.25em;color: #696969;}#sk-container-id-1 label.sk-toggleable__label-arrow:hover:before {color: black;}#sk-container-id-1 div.sk-estimator:hover label.sk-toggleable__label-arrow:before {color: black;}#sk-container-id-1 div.sk-toggleable__content {max-height: 0;max-width: 0;overflow: hidden;text-align: left;background-color: #f0f8ff;}#sk-container-id-1 div.sk-toggleable__content pre {margin: 0.2em;color: black;border-radius: 0.25em;background-color: #f0f8ff;}#sk-container-id-1 input.sk-toggleable__control:checked~div.sk-toggleable__content {max-height: 200px;max-width: 100%;overflow: auto;}#sk-container-id-1 input.sk-toggleable__control:checked~label.sk-toggleable__label-arrow:before {content: \"▾\";}#sk-container-id-1 div.sk-estimator input.sk-toggleable__control:checked~label.sk-toggleable__label {background-color: #d4ebff;}#sk-container-id-1 div.sk-label input.sk-toggleable__control:checked~label.sk-toggleable__label {background-color: #d4ebff;}#sk-container-id-1 input.sk-hidden--visually {border: 0;clip: rect(1px 1px 1px 1px);clip: rect(1px, 1px, 1px, 1px);height: 1px;margin: -1px;overflow: hidden;padding: 0;position: absolute;width: 1px;}#sk-container-id-1 div.sk-estimator {font-family: monospace;background-color: #f0f8ff;border: 1px dotted black;border-radius: 0.25em;box-sizing: border-box;margin-bottom: 0.5em;}#sk-container-id-1 div.sk-estimator:hover {background-color: #d4ebff;}#sk-container-id-1 div.sk-parallel-item::after {content: \"\";width: 100%;border-bottom: 1px solid gray;flex-grow: 1;}#sk-container-id-1 div.sk-label:hover label.sk-toggleable__label {background-color: #d4ebff;}#sk-container-id-1 div.sk-serial::before {content: \"\";position: absolute;border-left: 1px solid gray;box-sizing: border-box;top: 0;bottom: 0;left: 50%;z-index: 0;}#sk-container-id-1 div.sk-serial {display: flex;flex-direction: column;align-items: center;background-color: white;padding-right: 0.2em;padding-left: 0.2em;position: relative;}#sk-container-id-1 div.sk-item {position: relative;z-index: 1;}#sk-container-id-1 div.sk-parallel {display: flex;align-items: stretch;justify-content: center;background-color: white;position: relative;}#sk-container-id-1 div.sk-item::before, #sk-container-id-1 div.sk-parallel-item::before {content: \"\";position: absolute;border-left: 1px solid gray;box-sizing: border-box;top: 0;bottom: 0;left: 50%;z-index: -1;}#sk-container-id-1 div.sk-parallel-item {display: flex;flex-direction: column;z-index: 1;position: relative;background-color: white;}#sk-container-id-1 div.sk-parallel-item:first-child::after {align-self: flex-end;width: 50%;}#sk-container-id-1 div.sk-parallel-item:last-child::after {align-self: flex-start;width: 50%;}#sk-container-id-1 div.sk-parallel-item:only-child::after {width: 0;}#sk-container-id-1 div.sk-dashed-wrapped {border: 1px dashed gray;margin: 0 0.4em 0.5em 0.4em;box-sizing: border-box;padding-bottom: 0.4em;background-color: white;}#sk-container-id-1 div.sk-label label {font-family: monospace;font-weight: bold;display: inline-block;line-height: 1.2em;}#sk-container-id-1 div.sk-label-container {text-align: center;}#sk-container-id-1 div.sk-container {/* jupyter's `normalize.less` sets `[hidden] { display: none; }` but bootstrap.min.css set `[hidden] { display: none !important; }` so we also need the `!important` here to be able to override the default hidden behavior on the sphinx rendered scikit-learn.org. See: https://github.com/scikit-learn/scikit-learn/issues/21755 */display: inline-block !important;position: relative;}#sk-container-id-1 div.sk-text-repr-fallback {display: none;}</style><div id=\"sk-container-id-1\" class=\"sk-top-container\"><div class=\"sk-text-repr-fallback\"><pre>LinearRegression()</pre><b>In a Jupyter environment, please rerun this cell to show the HTML representation or trust the notebook. <br />On GitHub, the HTML representation is unable to render, please try loading this page with nbviewer.org.</b></div><div class=\"sk-container\" hidden><div class=\"sk-item\"><div class=\"sk-estimator sk-toggleable\"><input class=\"sk-toggleable__control sk-hidden--visually\" id=\"sk-estimator-id-1\" type=\"checkbox\" checked><label for=\"sk-estimator-id-1\" class=\"sk-toggleable__label sk-toggleable__label-arrow\">LinearRegression</label><div class=\"sk-toggleable__content\"><pre>LinearRegression()</pre></div></div></div></div></div>"
            ]
          },
          "metadata": {},
          "execution_count": 7
        }
      ]
    },
    {
      "cell_type": "code",
      "metadata": {
        "colab": {
          "base_uri": "https://localhost:8080/"
        },
        "id": "qMnc0sk7mXzS",
        "outputId": "56c30a6e-1973-4daa-c843-4b11edcf63f0"
      },
      "source": [
        "# выведем наклон и сдвиг с помощью атрибутов coef_ и intercept_ соответственно\n",
        "print(model.coef_, model.intercept_)"
      ],
      "execution_count": 8,
      "outputs": [
        {
          "output_type": "stream",
          "name": "stdout",
          "text": [
            "[26.37316095] -9.809957964460885\n"
          ]
        }
      ]
    },
    {
      "cell_type": "code",
      "metadata": {
        "colab": {
          "base_uri": "https://localhost:8080/"
        },
        "id": "Oxg7AtdxmzgB",
        "outputId": "2eebb784-126e-4732-9f84-0ec9a96ef6cd"
      },
      "source": [
        "# на основе значений роста (Х) предскажем значения обхвата шеи\n",
        "y_pred = model.predict(X_test)\n",
        "\n",
        "# выведем первые пять значений с помощью диапазона индексов\n",
        "print(y_pred[:5])"
      ],
      "execution_count": 9,
      "outputs": [
        {
          "output_type": "stream",
          "name": "stdout",
          "text": [
            "[33.9694892  31.59590472 30.54097828 34.23322081 30.01351506]\n"
          ]
        }
      ]
    },
    {
      "cell_type": "code",
      "metadata": {
        "colab": {
          "base_uri": "https://localhost:8080/"
        },
        "id": "7DzoDmu4nDxq",
        "outputId": "cda97df5-cbb9-4d76-e016-39ef1ad070d9"
      },
      "source": [
        "# импортируем модуль метрик\n",
        "from sklearn import metrics\n",
        "\n",
        "# выведем корень среднеквадратической ошибки\n",
        "# в этот раз сравним тестовые и прогнозные значения окружности шеи\n",
        "print('Root Mean Squared Error (RMSE):', np.sqrt(metrics.mean_squared_error(y_test, y_pred)))"
      ],
      "execution_count": 10,
      "outputs": [
        {
          "output_type": "stream",
          "name": "stdout",
          "text": [
            "Root Mean Squared Error (RMSE): 0.5604831734149255\n"
          ]
        }
      ]
    },
    {
      "cell_type": "markdown",
      "metadata": {
        "id": "IuFWY4xjpjv3"
      },
      "source": [
        "### Упражнения"
      ]
    },
    {
      "cell_type": "markdown",
      "metadata": {
        "id": "_BFjhuX1O4UR"
      },
      "source": [
        "Снова используем кривую спроса из предыдущих упражнений."
      ]
    },
    {
      "cell_type": "code",
      "metadata": {
        "id": "-blfy2eqnmNQ"
      },
      "source": [
        "prices = [10, 20, 30, 40, 50, 60, 70, 80, 90, 100, 110, 120, 130, 140, 150, 160, 170, 180, 190]\n",
        "demand = [180, 170, 150, 140, 135, 128, 120, 115, 114, 108, 100, 97, 96, 95, 90, 85, 80, 80, 80]"
      ],
      "execution_count": 22,
      "outputs": []
    },
    {
      "cell_type": "markdown",
      "metadata": {
        "id": "gndUP5MgRS7X"
      },
      "source": [
        "#### Обучающая и тестовая выборки"
      ]
    },
    {
      "cell_type": "markdown",
      "source": [
        "**Задание 1**. Преобразуйте данные в массивы Numpy (двумерный для X и одномерный для y)."
      ],
      "metadata": {
        "id": "mwUZy3oE-kzV"
      }
    },
    {
      "cell_type": "code",
      "metadata": {
        "id": "FLAINARzPE71"
      },
      "source": [
        "# преобразуем наш список X сначала в одномерный массив Numpy, а затем добавим второе измерение\n",
        "X = np.array(prices).reshape(-1, 1)\n",
        "\n",
        "# список y достаточно преобразовать в одномерный массив Numpy\n",
        "y = np.array(demand)"
      ],
      "execution_count": 23,
      "outputs": []
    },
    {
      "cell_type": "markdown",
      "source": [
        "**Задание 2**. Разбейте данные на обучающую и тестовую выборки."
      ],
      "metadata": {
        "id": "qBeojDe7_RlK"
      }
    },
    {
      "cell_type": "code",
      "metadata": {
        "id": "eBVLwmsjPM3w"
      },
      "source": [
        "X_train, X_test, y_train, y_test = train_test_split(X, y,\n",
        "                                                    test_size = 0.3,\n",
        "                                                    random_state = 42)"
      ],
      "execution_count": 24,
      "outputs": []
    },
    {
      "cell_type": "markdown",
      "source": [
        "**Задание 3**. Посмотрите на получившуюся размерность."
      ],
      "metadata": {
        "id": "Bc0NkC1U_YrP"
      }
    },
    {
      "cell_type": "code",
      "metadata": {
        "id": "4wlHTw6fQl-X",
        "outputId": "86e4e035-d639-4f4e-d874-b29930448021",
        "colab": {
          "base_uri": "https://localhost:8080/"
        }
      },
      "source": [
        "print(X_train.shape, X_test.shape)"
      ],
      "execution_count": 25,
      "outputs": [
        {
          "output_type": "stream",
          "name": "stdout",
          "text": [
            "(13, 1) (6, 1)\n"
          ]
        }
      ]
    },
    {
      "cell_type": "code",
      "source": [
        "print(y.shape, y_train.shape, y_test.shape)"
      ],
      "metadata": {
        "id": "I-MZ03NYlkQP",
        "outputId": "24a534d8-359c-45f8-848e-be9ba59ff522",
        "colab": {
          "base_uri": "https://localhost:8080/"
        }
      },
      "execution_count": 26,
      "outputs": [
        {
          "output_type": "stream",
          "name": "stdout",
          "text": [
            "(19,) (13,) (6,)\n"
          ]
        }
      ]
    },
    {
      "cell_type": "markdown",
      "metadata": {
        "id": "S_mZyzcBROJ1"
      },
      "source": [
        "#### Модель линейной регрессии"
      ]
    },
    {
      "cell_type": "markdown",
      "source": [
        "**Задание 4**. Создайте объект класса LinearRegression()."
      ],
      "metadata": {
        "id": "bcjoAW04_oWs"
      }
    },
    {
      "cell_type": "code",
      "metadata": {
        "id": "TMYOx5CiRNf5"
      },
      "source": [
        "# создадим объект этого класса и запишем в переменную model\n",
        "model = LinearRegression()\n"
      ],
      "execution_count": 27,
      "outputs": []
    },
    {
      "cell_type": "markdown",
      "source": [
        "**Задание 5**. Обучите модель.\n",
        "\n",
        "Подсказка: используйте метод **.fit()**."
      ],
      "metadata": {
        "id": "smTMpoIh_vB2"
      }
    },
    {
      "cell_type": "code",
      "metadata": {
        "id": "kgHmZ4xrQ5zX",
        "outputId": "b4667e90-09a8-4a1a-b0a4-8362a646807b",
        "colab": {
          "base_uri": "https://localhost:8080/",
          "height": 74
        }
      },
      "source": [
        "model.fit(X_train, y_train)"
      ],
      "execution_count": 28,
      "outputs": [
        {
          "output_type": "execute_result",
          "data": {
            "text/plain": [
              "LinearRegression()"
            ],
            "text/html": [
              "<style>#sk-container-id-4 {color: black;background-color: white;}#sk-container-id-4 pre{padding: 0;}#sk-container-id-4 div.sk-toggleable {background-color: white;}#sk-container-id-4 label.sk-toggleable__label {cursor: pointer;display: block;width: 100%;margin-bottom: 0;padding: 0.3em;box-sizing: border-box;text-align: center;}#sk-container-id-4 label.sk-toggleable__label-arrow:before {content: \"▸\";float: left;margin-right: 0.25em;color: #696969;}#sk-container-id-4 label.sk-toggleable__label-arrow:hover:before {color: black;}#sk-container-id-4 div.sk-estimator:hover label.sk-toggleable__label-arrow:before {color: black;}#sk-container-id-4 div.sk-toggleable__content {max-height: 0;max-width: 0;overflow: hidden;text-align: left;background-color: #f0f8ff;}#sk-container-id-4 div.sk-toggleable__content pre {margin: 0.2em;color: black;border-radius: 0.25em;background-color: #f0f8ff;}#sk-container-id-4 input.sk-toggleable__control:checked~div.sk-toggleable__content {max-height: 200px;max-width: 100%;overflow: auto;}#sk-container-id-4 input.sk-toggleable__control:checked~label.sk-toggleable__label-arrow:before {content: \"▾\";}#sk-container-id-4 div.sk-estimator input.sk-toggleable__control:checked~label.sk-toggleable__label {background-color: #d4ebff;}#sk-container-id-4 div.sk-label input.sk-toggleable__control:checked~label.sk-toggleable__label {background-color: #d4ebff;}#sk-container-id-4 input.sk-hidden--visually {border: 0;clip: rect(1px 1px 1px 1px);clip: rect(1px, 1px, 1px, 1px);height: 1px;margin: -1px;overflow: hidden;padding: 0;position: absolute;width: 1px;}#sk-container-id-4 div.sk-estimator {font-family: monospace;background-color: #f0f8ff;border: 1px dotted black;border-radius: 0.25em;box-sizing: border-box;margin-bottom: 0.5em;}#sk-container-id-4 div.sk-estimator:hover {background-color: #d4ebff;}#sk-container-id-4 div.sk-parallel-item::after {content: \"\";width: 100%;border-bottom: 1px solid gray;flex-grow: 1;}#sk-container-id-4 div.sk-label:hover label.sk-toggleable__label {background-color: #d4ebff;}#sk-container-id-4 div.sk-serial::before {content: \"\";position: absolute;border-left: 1px solid gray;box-sizing: border-box;top: 0;bottom: 0;left: 50%;z-index: 0;}#sk-container-id-4 div.sk-serial {display: flex;flex-direction: column;align-items: center;background-color: white;padding-right: 0.2em;padding-left: 0.2em;position: relative;}#sk-container-id-4 div.sk-item {position: relative;z-index: 1;}#sk-container-id-4 div.sk-parallel {display: flex;align-items: stretch;justify-content: center;background-color: white;position: relative;}#sk-container-id-4 div.sk-item::before, #sk-container-id-4 div.sk-parallel-item::before {content: \"\";position: absolute;border-left: 1px solid gray;box-sizing: border-box;top: 0;bottom: 0;left: 50%;z-index: -1;}#sk-container-id-4 div.sk-parallel-item {display: flex;flex-direction: column;z-index: 1;position: relative;background-color: white;}#sk-container-id-4 div.sk-parallel-item:first-child::after {align-self: flex-end;width: 50%;}#sk-container-id-4 div.sk-parallel-item:last-child::after {align-self: flex-start;width: 50%;}#sk-container-id-4 div.sk-parallel-item:only-child::after {width: 0;}#sk-container-id-4 div.sk-dashed-wrapped {border: 1px dashed gray;margin: 0 0.4em 0.5em 0.4em;box-sizing: border-box;padding-bottom: 0.4em;background-color: white;}#sk-container-id-4 div.sk-label label {font-family: monospace;font-weight: bold;display: inline-block;line-height: 1.2em;}#sk-container-id-4 div.sk-label-container {text-align: center;}#sk-container-id-4 div.sk-container {/* jupyter's `normalize.less` sets `[hidden] { display: none; }` but bootstrap.min.css set `[hidden] { display: none !important; }` so we also need the `!important` here to be able to override the default hidden behavior on the sphinx rendered scikit-learn.org. See: https://github.com/scikit-learn/scikit-learn/issues/21755 */display: inline-block !important;position: relative;}#sk-container-id-4 div.sk-text-repr-fallback {display: none;}</style><div id=\"sk-container-id-4\" class=\"sk-top-container\"><div class=\"sk-text-repr-fallback\"><pre>LinearRegression()</pre><b>In a Jupyter environment, please rerun this cell to show the HTML representation or trust the notebook. <br />On GitHub, the HTML representation is unable to render, please try loading this page with nbviewer.org.</b></div><div class=\"sk-container\" hidden><div class=\"sk-item\"><div class=\"sk-estimator sk-toggleable\"><input class=\"sk-toggleable__control sk-hidden--visually\" id=\"sk-estimator-id-4\" type=\"checkbox\" checked><label for=\"sk-estimator-id-4\" class=\"sk-toggleable__label sk-toggleable__label-arrow\">LinearRegression</label><div class=\"sk-toggleable__content\"><pre>LinearRegression()</pre></div></div></div></div></div>"
            ]
          },
          "metadata": {},
          "execution_count": 28
        }
      ]
    },
    {
      "cell_type": "markdown",
      "source": [
        "**Задание 6**. Выведите коэффициенты (наклон и сдвиг)."
      ],
      "metadata": {
        "id": "lLKUzAgn_6lg"
      }
    },
    {
      "cell_type": "code",
      "metadata": {
        "id": "YtG-O2ScQ_-C",
        "outputId": "7062e3bc-b5b7-41a6-dd70-b015ab8aafb4",
        "colab": {
          "base_uri": "https://localhost:8080/"
        }
      },
      "source": [
        "print(model.coef_, model.intercept_)"
      ],
      "execution_count": 29,
      "outputs": [
        {
          "output_type": "stream",
          "name": "stdout",
          "text": [
            "[-0.42719298] 154.22199730094468\n"
          ]
        }
      ]
    },
    {
      "cell_type": "markdown",
      "source": [
        "**Задание 7**. Сделайте прогноз и выведите первые три прогнозных значения.\n",
        "\n",
        "Подсказка: используйте метод **.predict()**."
      ],
      "metadata": {
        "id": "aXlI05l_AE46"
      }
    },
    {
      "cell_type": "code",
      "metadata": {
        "id": "B9U9zmatRu__",
        "outputId": "b1f6ceaf-e362-4ed1-c87a-71961b728795",
        "colab": {
          "base_uri": "https://localhost:8080/"
        }
      },
      "source": [
        "y_pred = model.predict(X_test)\n",
        "\n",
        "print(y_pred[:3])"
      ],
      "execution_count": 30,
      "outputs": [
        {
          "output_type": "stream",
          "name": "stdout",
          "text": [
            "[149.95006748 128.59041835 102.95883941]\n"
          ]
        }
      ]
    },
    {
      "cell_type": "markdown",
      "source": [
        "**Задание 8**. Посчитайте корень среднеквадратической ошибки (RMSE)."
      ],
      "metadata": {
        "id": "Y5Pgy4TUAWvU"
      }
    },
    {
      "cell_type": "code",
      "metadata": {
        "id": "rigddalIR_Eo",
        "outputId": "c7e25c48-e057-4eee-871a-ddb83e4979af",
        "colab": {
          "base_uri": "https://localhost:8080/"
        }
      },
      "source": [
        "# в этот раз сравним тестовые и прогнозные значения окружности шеи\n",
        "print('Root Mean Squared Error (RMSE):', np.sqrt(metrics.mean_squared_error(y_test, y_pred)))"
      ],
      "execution_count": 31,
      "outputs": [
        {
          "output_type": "stream",
          "name": "stdout",
          "text": [
            "Root Mean Squared Error (RMSE): 16.000596399732142\n"
          ]
        }
      ]
    }
  ]
}