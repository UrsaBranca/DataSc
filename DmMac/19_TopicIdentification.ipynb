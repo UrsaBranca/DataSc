{
  "nbformat": 4,
  "nbformat_minor": 0,
  "metadata": {
    "colab": {
      "provenance": []
    },
    "kernelspec": {
      "name": "python3",
      "display_name": "Python 3"
    },
    "language_info": {
      "name": "python"
    }
  },
  "cells": [
    {
      "cell_type": "markdown",
      "metadata": {
        "id": "igscBfg31xzX"
      },
      "source": [
        "## Обработка естественного языка"
      ]
    },
    {
      "cell_type": "markdown",
      "metadata": {
        "id": "9vzooI-nvkzO"
      },
      "source": [
        "### Предварительная обработка текста"
      ]
    },
    {
      "cell_type": "code",
      "metadata": {
        "id": "hbuU8WhzKLBt"
      },
      "source": [
        "# возьмём исходный текст для анализа\n",
        "corpus = 'When we were in Paris we visited a lot of museums. We first went to the Louvre, the largest art museum in the world. I have always been interested in art so I spent many hours there. The museum is enourmous, so a week there would not be enough.'"
      ],
      "execution_count": 21,
      "outputs": []
    },
    {
      "cell_type": "code",
      "metadata": {
        "id": "EZCOyIopqhJJ"
      },
      "source": [
        "# импортируем основную библиотеку для работы с текстом\n",
        "import nltk\n",
        "\n",
        "# и другие уже известные нам библиотеки\n",
        "import pandas as pd\n",
        "import numpy as np"
      ],
      "execution_count": 22,
      "outputs": []
    },
    {
      "cell_type": "markdown",
      "metadata": {
        "id": "SiXzm8bSWuR8"
      },
      "source": [
        "#### Шаг 1. Разделение на предложения"
      ]
    },
    {
      "cell_type": "code",
      "metadata": {
        "colab": {
          "base_uri": "https://localhost:8080/"
        },
        "id": "0_lp7a2jqXKV",
        "outputId": "d6f82da9-1b02-4098-fa01-71127d5e54a9"
      },
      "source": [
        "# импортируем метод sent_tokenize\n",
        "from nltk.tokenize import sent_tokenize\n",
        "\n",
        "# скачиваем модель, которая будет делить на предложения\n",
        "nltk.download('punkt')\n",
        "print('')\n",
        "\n",
        "# и применяем метод к нашему тексту\n",
        "sentences = sent_tokenize(corpus)\n",
        "sentences"
      ],
      "execution_count": 23,
      "outputs": [
        {
          "output_type": "stream",
          "name": "stdout",
          "text": [
            "\n"
          ]
        },
        {
          "output_type": "stream",
          "name": "stderr",
          "text": [
            "[nltk_data] Downloading package punkt to /root/nltk_data...\n",
            "[nltk_data]   Package punkt is already up-to-date!\n"
          ]
        },
        {
          "output_type": "execute_result",
          "data": {
            "text/plain": [
              "['When we were in Paris we visited a lot of museums.',\n",
              " 'We first went to the Louvre, the largest art museum in the world.',\n",
              " 'I have always been interested in art so I spent many hours there.',\n",
              " 'The museum is enourmous, so a week there would not be enough.']"
            ]
          },
          "metadata": {},
          "execution_count": 23
        }
      ]
    },
    {
      "cell_type": "markdown",
      "metadata": {
        "id": "4yQB6XfgW5J7"
      },
      "source": [
        "#### Шаг 2. Разделение на слова"
      ]
    },
    {
      "cell_type": "code",
      "metadata": {
        "colab": {
          "base_uri": "https://localhost:8080/"
        },
        "id": "PYo3qgIGtSNy",
        "outputId": "df4b9a6a-0022-4294-c5a3-61b8b5f9e7c8"
      },
      "source": [
        "# импортируем метод word_tokenize\n",
        "from nltk.tokenize import word_tokenize\n",
        "\n",
        "# и разобьём на слова первое предложение\n",
        "print(word_tokenize(sentences[0]))"
      ],
      "execution_count": 24,
      "outputs": [
        {
          "output_type": "stream",
          "name": "stdout",
          "text": [
            "['When', 'we', 'were', 'in', 'Paris', 'we', 'visited', 'a', 'lot', 'of', 'museums', '.']\n"
          ]
        }
      ]
    },
    {
      "cell_type": "code",
      "metadata": {
        "colab": {
          "base_uri": "https://localhost:8080/"
        },
        "id": "D1QCDw-KtXb1",
        "outputId": "1c7f3ee7-39c9-4138-ffd4-77acf7230999"
      },
      "source": [
        "# теперь проделаем это со всеми предложениями\n",
        "\n",
        "# для этого создадим пустой список\n",
        "tokens = []\n",
        "\n",
        "# в цикле for пройдемся по каждому предложению\n",
        "for sentence in sentences:\n",
        "\n",
        "    # создадим списки из токенов\n",
        "    t = word_tokenize(sentence)\n",
        "\n",
        "    # и присоединим списки друг к другу\n",
        "    tokens.extend(t)\n",
        "\n",
        "print(tokens)"
      ],
      "execution_count": 25,
      "outputs": [
        {
          "output_type": "stream",
          "name": "stdout",
          "text": [
            "['When', 'we', 'were', 'in', 'Paris', 'we', 'visited', 'a', 'lot', 'of', 'museums', '.', 'We', 'first', 'went', 'to', 'the', 'Louvre', ',', 'the', 'largest', 'art', 'museum', 'in', 'the', 'world', '.', 'I', 'have', 'always', 'been', 'interested', 'in', 'art', 'so', 'I', 'spent', 'many', 'hours', 'there', '.', 'The', 'museum', 'is', 'enourmous', ',', 'so', 'a', 'week', 'there', 'would', 'not', 'be', 'enough', '.']\n"
          ]
        }
      ]
    },
    {
      "cell_type": "markdown",
      "metadata": {
        "id": "4ZlVHeXfW-EV"
      },
      "source": [
        "#### Шаг 3. Перевод в нижний регистр, удаление стоп-слов и знаков пунктуации"
      ]
    },
    {
      "cell_type": "code",
      "metadata": {
        "colab": {
          "base_uri": "https://localhost:8080/"
        },
        "id": "86qHziOHtcwh",
        "outputId": "bc6ef774-7c06-4679-9f40-19313b234f92"
      },
      "source": [
        "# импортируем модуль стоп-слов\n",
        "from nltk.corpus import stopwords\n",
        "\n",
        "# скачаем словарь стоп-слов\n",
        "nltk.download('stopwords')\n",
        "print('')\n",
        "\n",
        "# мы используем set, чтобы оставить только уникальные значения\n",
        "unique_stops = set(stopwords.words('english'))\n",
        "\n",
        "# создаём пустой список без стоп-слов\n",
        "no_stops = []\n",
        "\n",
        "# проходимся по всем токенам\n",
        "for token in tokens:\n",
        "\n",
        "    # переводим все слова в нижний регистр\n",
        "    token = token.lower()\n",
        "\n",
        "    # если токен не в списке стоп-слов и не является знаком пунктуации\n",
        "    if token not in unique_stops and token.isalpha():\n",
        "\n",
        "        # добавляем его в список\n",
        "        no_stops.append(token)\n",
        "\n",
        "print(no_stops)"
      ],
      "execution_count": 26,
      "outputs": [
        {
          "output_type": "stream",
          "name": "stdout",
          "text": [
            "\n",
            "['paris', 'visited', 'lot', 'museums', 'first', 'went', 'louvre', 'largest', 'art', 'museum', 'world', 'always', 'interested', 'art', 'spent', 'many', 'hours', 'museum', 'enourmous', 'week', 'would', 'enough']\n"
          ]
        },
        {
          "output_type": "stream",
          "name": "stderr",
          "text": [
            "[nltk_data] Downloading package stopwords to /root/nltk_data...\n",
            "[nltk_data]   Package stopwords is already up-to-date!\n"
          ]
        }
      ]
    },
    {
      "cell_type": "markdown",
      "metadata": {
        "id": "R4XqH_LbXKNI"
      },
      "source": [
        "#### Шаг 4. Лемматизация"
      ]
    },
    {
      "cell_type": "code",
      "metadata": {
        "colab": {
          "base_uri": "https://localhost:8080/"
        },
        "id": "K_QyS1s6wlxb",
        "outputId": "a8aa2c3c-75ea-4e8d-c3cd-17f2f3b40c63"
      },
      "source": [
        "# импортируем класс для лемматизации\n",
        "from nltk.stem import WordNetLemmatizer\n",
        "\n",
        "# импортируем словарь\n",
        "nltk.download('wordnet')\n",
        "print('')\n",
        "\n",
        "# создаём объект этого класса\n",
        "lemmatizer = WordNetLemmatizer()\n",
        "\n",
        "# и пустой список для слов после лемматизации\n",
        "lemmatized = []\n",
        "\n",
        "# проходимся по всем токенам\n",
        "for token in no_stops:\n",
        "\n",
        "    # применяем лемматизацию\n",
        "    token = lemmatizer.lemmatize(token)\n",
        "\n",
        "    # добавляем слово после лемматизации в список\n",
        "    lemmatized.append(token)\n",
        "\n",
        "print(lemmatized)"
      ],
      "execution_count": 27,
      "outputs": [
        {
          "output_type": "stream",
          "name": "stdout",
          "text": [
            "\n",
            "['paris', 'visited', 'lot', 'museum', 'first', 'went', 'louvre', 'largest', 'art', 'museum', 'world', 'always', 'interested', 'art', 'spent', 'many', 'hour', 'museum', 'enourmous', 'week', 'would', 'enough']\n"
          ]
        },
        {
          "output_type": "stream",
          "name": "stderr",
          "text": [
            "[nltk_data] Downloading package wordnet to /root/nltk_data...\n",
            "[nltk_data]   Package wordnet is already up-to-date!\n"
          ]
        }
      ]
    },
    {
      "cell_type": "markdown",
      "metadata": {
        "id": "Kq7a3URaXM_i"
      },
      "source": [
        "#### Шаг 5. Стемминг"
      ]
    },
    {
      "cell_type": "code",
      "metadata": {
        "colab": {
          "base_uri": "https://localhost:8080/"
        },
        "id": "69xOHuD80wis",
        "outputId": "00b6de34-d7c4-47a7-ebb8-7e53cedd0562"
      },
      "source": [
        "# импортируем класс стеммера Porter и создаём объект этого класса\n",
        "from nltk.stem import PorterStemmer\n",
        "porter = PorterStemmer()\n",
        "\n",
        "# используем list comprehension вместо цикла for для стемминга и создание нового списка\n",
        "# такая запись намного короче\n",
        "stemmed_p = [porter.stem(s) for s in lemmatized]\n",
        "print(stemmed_p)"
      ],
      "execution_count": 28,
      "outputs": [
        {
          "output_type": "stream",
          "name": "stdout",
          "text": [
            "['pari', 'visit', 'lot', 'museum', 'first', 'went', 'louvr', 'largest', 'art', 'museum', 'world', 'alway', 'interest', 'art', 'spent', 'mani', 'hour', 'museum', 'enourm', 'week', 'would', 'enough']\n"
          ]
        }
      ]
    },
    {
      "cell_type": "code",
      "metadata": {
        "colab": {
          "base_uri": "https://localhost:8080/"
        },
        "id": "0eAgmFso2NCL",
        "outputId": "ac6ea5df-e325-44be-c330-ee1bf4654a83"
      },
      "source": [
        "# аналогично импортируем класс Lancaster и создаём объект этого класса\n",
        "from nltk.stem import LancasterStemmer\n",
        "lancaster = LancasterStemmer()\n",
        "\n",
        "# также используем list_comprehension\n",
        "stemmed_l = [lancaster.stem(s) for s in lemmatized]\n",
        "print(stemmed_l)"
      ],
      "execution_count": 29,
      "outputs": [
        {
          "output_type": "stream",
          "name": "stdout",
          "text": [
            "['par', 'visit', 'lot', 'muse', 'first', 'went', 'louvr', 'largest', 'art', 'muse', 'world', 'alway', 'interest', 'art', 'spent', 'many', 'hour', 'muse', 'enourm', 'week', 'would', 'enough']\n"
          ]
        }
      ]
    },
    {
      "cell_type": "markdown",
      "source": [
        "К сожалению, ни тот, ни другой не показали хороших результатов. Стемминг к нашему тексту мы применять не будем."
      ],
      "metadata": {
        "id": "UD2ahay1Jny0"
      }
    },
    {
      "cell_type": "markdown",
      "metadata": {
        "id": "lg_PhGXGvhJG"
      },
      "source": [
        "### Мешок слов (bag of words, bow)"
      ]
    },
    {
      "cell_type": "markdown",
      "metadata": {
        "id": "Zyw-EPbs2mV_"
      },
      "source": [
        "С помощью Counter"
      ]
    },
    {
      "cell_type": "code",
      "metadata": {
        "colab": {
          "base_uri": "https://localhost:8080/"
        },
        "id": "Iqpe0QUEvfbp",
        "outputId": "1bc4bd68-c3d8-4a31-d96b-bee67c6c00f5"
      },
      "source": [
        "# из модуля collections импортируем класс Counter\n",
        "from collections import Counter\n",
        "\n",
        "# применяем класс Counter к словам после лемматизации\n",
        "# на выходе нам возвращается словарь { слово : его частота в тексте }\n",
        "bow_counter = Counter(lemmatized)\n",
        "# print(bow_counter)\n",
        "\n",
        "# функция most_common() упорядочивает словарь по значению\n",
        "# посмотрим на первые 10 наиболее частотных слов\n",
        "print(bow_counter.most_common(10))"
      ],
      "execution_count": 30,
      "outputs": [
        {
          "output_type": "stream",
          "name": "stdout",
          "text": [
            "[('museum', 3), ('art', 2), ('paris', 1), ('visited', 1), ('lot', 1), ('first', 1), ('went', 1), ('louvre', 1), ('largest', 1), ('world', 1)]\n"
          ]
        }
      ]
    },
    {
      "cell_type": "markdown",
      "metadata": {
        "id": "MxDQoiXi2qUV"
      },
      "source": [
        "С помощью CountVectorizer"
      ]
    },
    {
      "cell_type": "code",
      "metadata": {
        "id": "OLKaxvgc2_hr"
      },
      "source": [
        "# импортируем класс CountVectorizer из библиотеки Scikit-learn\n",
        "from sklearn.feature_extraction.text import CountVectorizer\n",
        "\n",
        "# создаём объект этого класса и\n",
        "# указываем, что хотим перевести слова в нижний регистр, а также\n",
        "# отфильтровать стоп-слова через stop_words = {'english'}\n",
        "vectorizer = CountVectorizer(analyzer = \"word\",\n",
        "                             lowercase = True,\n",
        "                             tokenizer = None,\n",
        "                             preprocessor = None,\n",
        "                             stop_words = ('english'),\n",
        "                             max_features = 5000)"
      ],
      "execution_count": 31,
      "outputs": []
    },
    {
      "cell_type": "code",
      "metadata": {
        "colab": {
          "base_uri": "https://localhost:8080/"
        },
        "id": "MG1oEHVK44nA",
        "outputId": "b39c4a99-27ea-4816-a347-4a621c452f75"
      },
      "source": [
        "# применяем этот объект к предложениям (ещё говорят документам)\n",
        "bow_cv = vectorizer.fit_transform(sentences)\n",
        "\n",
        "# на выходе получается матрица csr\n",
        "print(type(bow_cv))"
      ],
      "execution_count": 32,
      "outputs": [
        {
          "output_type": "stream",
          "name": "stdout",
          "text": [
            "<class 'scipy.sparse._csr.csr_matrix'>\n"
          ]
        }
      ]
    },
    {
      "cell_type": "code",
      "metadata": {
        "colab": {
          "base_uri": "https://localhost:8080/"
        },
        "id": "8rv2IbfGRWIU",
        "outputId": "0fd80826-c996-456f-d4ef-8d989a25ba67"
      },
      "source": [
        "# преобразуем матрицу csr в привычный формат массива Numpy\n",
        "# для этого можно использовать .toarray()\n",
        "print(bow_cv.toarray())"
      ],
      "execution_count": 33,
      "outputs": [
        {
          "output_type": "stream",
          "name": "stdout",
          "text": [
            "[[0 0 0 0 0 1 0 0 1 1 0 1 0 0 0]\n",
            " [1 0 0 0 1 0 1 1 0 0 0 0 0 1 1]\n",
            " [1 0 1 1 0 0 0 0 0 0 1 0 0 0 0]\n",
            " [0 1 0 0 0 0 0 1 0 0 0 0 1 0 0]]\n"
          ]
        }
      ]
    },
    {
      "cell_type": "code",
      "metadata": {
        "colab": {
          "base_uri": "https://localhost:8080/"
        },
        "id": "FC5XjZr8b70w",
        "outputId": "5ddc2ced-dca9-47ed-ac8f-dd5e6a1fe034"
      },
      "source": [
        "# строки это предложения (документы), столбцы - слова (токены)\n",
        "bow_cv.shape"
      ],
      "execution_count": 34,
      "outputs": [
        {
          "output_type": "execute_result",
          "data": {
            "text/plain": [
              "(4, 15)"
            ]
          },
          "metadata": {},
          "execution_count": 34
        }
      ]
    },
    {
      "cell_type": "code",
      "metadata": {
        "colab": {
          "base_uri": "https://localhost:8080/"
        },
        "id": "KDztE1R_4-1h",
        "outputId": "9155593f-62ee-4872-f34c-3f0247d369f6"
      },
      "source": [
        "# мы можем посмотреть на используемые токены (слова)\n",
        "\n",
        "# здесь числа это не частотность, а просто порядковый номер (индекс)\n",
        "vocab = vectorizer.vocabulary_\n",
        "print(vocab)\n",
        "\n",
        "# можно вывести слова и без индекса\n",
        "tokens = vectorizer.get_feature_names_out()\n",
        "print(tokens)"
      ],
      "execution_count": 35,
      "outputs": [
        {
          "output_type": "stream",
          "name": "stdout",
          "text": [
            "{'paris': 9, 'visited': 11, 'lot': 5, 'museums': 8, 'went': 13, 'louvre': 6, 'largest': 4, 'art': 0, 'museum': 7, 'world': 14, 'interested': 3, 'spent': 10, 'hours': 2, 'enourmous': 1, 'week': 12}\n",
            "['art' 'enourmous' 'hours' 'interested' 'largest' 'lot' 'louvre' 'museum'\n",
            " 'museums' 'paris' 'spent' 'visited' 'week' 'went' 'world']\n"
          ]
        }
      ]
    },
    {
      "cell_type": "code",
      "metadata": {
        "colab": {
          "base_uri": "https://localhost:8080/",
          "height": 175
        },
        "id": "MaNy4TEucTse",
        "outputId": "09f2bdba-9c09-40a8-eb2e-3fc4ef18a2e0"
      },
      "source": [
        "# для удобства преобразуем матрицу в датафрейм\n",
        "\n",
        "# вначале создадим индекс предложений (документов)\n",
        "index_list = []\n",
        "\n",
        "# в цикле пройдемся по элементам матрицы, обозначим их через '_'\n",
        "# функция enumerate задаст каждому элементу индекс, начиная с 0\n",
        "for i, _ in enumerate(bow_cv):\n",
        "\n",
        "    # прибавим наш индекс к слову Sentence\n",
        "    index_list.append(f'Sentence_{i}')\n",
        "\n",
        "# print(index_list)\n",
        "\n",
        "# теперь можно использовать pd.DataFrame\n",
        "bow_cv_df = pd.DataFrame(data = bow_cv.toarray(),\n",
        "                         index = index_list,\n",
        "                         columns = tokens)\n",
        "bow_cv_df"
      ],
      "execution_count": 42,
      "outputs": [
        {
          "output_type": "execute_result",
          "data": {
            "text/plain": [
              "            art  enourmous  hours  interested  largest  lot  louvre  museum  \\\n",
              "Sentence_0    0          0      0           0        0    1       0       0   \n",
              "Sentence_1    1          0      0           0        1    0       1       1   \n",
              "Sentence_2    1          0      1           1        0    0       0       0   \n",
              "Sentence_3    0          1      0           0        0    0       0       1   \n",
              "\n",
              "            museums  paris  spent  visited  week  went  world  \n",
              "Sentence_0        1      1      0        1     0     0      0  \n",
              "Sentence_1        0      0      0        0     0     1      1  \n",
              "Sentence_2        0      0      1        0     0     0      0  \n",
              "Sentence_3        0      0      0        0     1     0      0  "
            ],
            "text/html": [
              "\n",
              "\n",
              "  <div id=\"df-eb3be986-5b74-409c-8994-e8eb4a9b948e\">\n",
              "    <div class=\"colab-df-container\">\n",
              "      <div>\n",
              "<style scoped>\n",
              "    .dataframe tbody tr th:only-of-type {\n",
              "        vertical-align: middle;\n",
              "    }\n",
              "\n",
              "    .dataframe tbody tr th {\n",
              "        vertical-align: top;\n",
              "    }\n",
              "\n",
              "    .dataframe thead th {\n",
              "        text-align: right;\n",
              "    }\n",
              "</style>\n",
              "<table border=\"1\" class=\"dataframe\">\n",
              "  <thead>\n",
              "    <tr style=\"text-align: right;\">\n",
              "      <th></th>\n",
              "      <th>art</th>\n",
              "      <th>enourmous</th>\n",
              "      <th>hours</th>\n",
              "      <th>interested</th>\n",
              "      <th>largest</th>\n",
              "      <th>lot</th>\n",
              "      <th>louvre</th>\n",
              "      <th>museum</th>\n",
              "      <th>museums</th>\n",
              "      <th>paris</th>\n",
              "      <th>spent</th>\n",
              "      <th>visited</th>\n",
              "      <th>week</th>\n",
              "      <th>went</th>\n",
              "      <th>world</th>\n",
              "    </tr>\n",
              "  </thead>\n",
              "  <tbody>\n",
              "    <tr>\n",
              "      <th>Sentence_0</th>\n",
              "      <td>0</td>\n",
              "      <td>0</td>\n",
              "      <td>0</td>\n",
              "      <td>0</td>\n",
              "      <td>0</td>\n",
              "      <td>1</td>\n",
              "      <td>0</td>\n",
              "      <td>0</td>\n",
              "      <td>1</td>\n",
              "      <td>1</td>\n",
              "      <td>0</td>\n",
              "      <td>1</td>\n",
              "      <td>0</td>\n",
              "      <td>0</td>\n",
              "      <td>0</td>\n",
              "    </tr>\n",
              "    <tr>\n",
              "      <th>Sentence_1</th>\n",
              "      <td>1</td>\n",
              "      <td>0</td>\n",
              "      <td>0</td>\n",
              "      <td>0</td>\n",
              "      <td>1</td>\n",
              "      <td>0</td>\n",
              "      <td>1</td>\n",
              "      <td>1</td>\n",
              "      <td>0</td>\n",
              "      <td>0</td>\n",
              "      <td>0</td>\n",
              "      <td>0</td>\n",
              "      <td>0</td>\n",
              "      <td>1</td>\n",
              "      <td>1</td>\n",
              "    </tr>\n",
              "    <tr>\n",
              "      <th>Sentence_2</th>\n",
              "      <td>1</td>\n",
              "      <td>0</td>\n",
              "      <td>1</td>\n",
              "      <td>1</td>\n",
              "      <td>0</td>\n",
              "      <td>0</td>\n",
              "      <td>0</td>\n",
              "      <td>0</td>\n",
              "      <td>0</td>\n",
              "      <td>0</td>\n",
              "      <td>1</td>\n",
              "      <td>0</td>\n",
              "      <td>0</td>\n",
              "      <td>0</td>\n",
              "      <td>0</td>\n",
              "    </tr>\n",
              "    <tr>\n",
              "      <th>Sentence_3</th>\n",
              "      <td>0</td>\n",
              "      <td>1</td>\n",
              "      <td>0</td>\n",
              "      <td>0</td>\n",
              "      <td>0</td>\n",
              "      <td>0</td>\n",
              "      <td>0</td>\n",
              "      <td>1</td>\n",
              "      <td>0</td>\n",
              "      <td>0</td>\n",
              "      <td>0</td>\n",
              "      <td>0</td>\n",
              "      <td>1</td>\n",
              "      <td>0</td>\n",
              "      <td>0</td>\n",
              "    </tr>\n",
              "  </tbody>\n",
              "</table>\n",
              "</div>\n",
              "      <button class=\"colab-df-convert\" onclick=\"convertToInteractive('df-eb3be986-5b74-409c-8994-e8eb4a9b948e')\"\n",
              "              title=\"Convert this dataframe to an interactive table.\"\n",
              "              style=\"display:none;\">\n",
              "\n",
              "  <svg xmlns=\"http://www.w3.org/2000/svg\" height=\"24px\"viewBox=\"0 0 24 24\"\n",
              "       width=\"24px\">\n",
              "    <path d=\"M0 0h24v24H0V0z\" fill=\"none\"/>\n",
              "    <path d=\"M18.56 5.44l.94 2.06.94-2.06 2.06-.94-2.06-.94-.94-2.06-.94 2.06-2.06.94zm-11 1L8.5 8.5l.94-2.06 2.06-.94-2.06-.94L8.5 2.5l-.94 2.06-2.06.94zm10 10l.94 2.06.94-2.06 2.06-.94-2.06-.94-.94-2.06-.94 2.06-2.06.94z\"/><path d=\"M17.41 7.96l-1.37-1.37c-.4-.4-.92-.59-1.43-.59-.52 0-1.04.2-1.43.59L10.3 9.45l-7.72 7.72c-.78.78-.78 2.05 0 2.83L4 21.41c.39.39.9.59 1.41.59.51 0 1.02-.2 1.41-.59l7.78-7.78 2.81-2.81c.8-.78.8-2.07 0-2.86zM5.41 20L4 18.59l7.72-7.72 1.47 1.35L5.41 20z\"/>\n",
              "  </svg>\n",
              "      </button>\n",
              "\n",
              "\n",
              "\n",
              "    <div id=\"df-cef47375-bd83-4ed9-84e4-ec267755d770\">\n",
              "      <button class=\"colab-df-quickchart\" onclick=\"quickchart('df-cef47375-bd83-4ed9-84e4-ec267755d770')\"\n",
              "              title=\"Suggest charts.\"\n",
              "              style=\"display:none;\">\n",
              "\n",
              "<svg xmlns=\"http://www.w3.org/2000/svg\" height=\"24px\"viewBox=\"0 0 24 24\"\n",
              "     width=\"24px\">\n",
              "    <g>\n",
              "        <path d=\"M19 3H5c-1.1 0-2 .9-2 2v14c0 1.1.9 2 2 2h14c1.1 0 2-.9 2-2V5c0-1.1-.9-2-2-2zM9 17H7v-7h2v7zm4 0h-2V7h2v10zm4 0h-2v-4h2v4z\"/>\n",
              "    </g>\n",
              "</svg>\n",
              "      </button>\n",
              "    </div>\n",
              "\n",
              "<style>\n",
              "  .colab-df-quickchart {\n",
              "    background-color: #E8F0FE;\n",
              "    border: none;\n",
              "    border-radius: 50%;\n",
              "    cursor: pointer;\n",
              "    display: none;\n",
              "    fill: #1967D2;\n",
              "    height: 32px;\n",
              "    padding: 0 0 0 0;\n",
              "    width: 32px;\n",
              "  }\n",
              "\n",
              "  .colab-df-quickchart:hover {\n",
              "    background-color: #E2EBFA;\n",
              "    box-shadow: 0px 1px 2px rgba(60, 64, 67, 0.3), 0px 1px 3px 1px rgba(60, 64, 67, 0.15);\n",
              "    fill: #174EA6;\n",
              "  }\n",
              "\n",
              "  [theme=dark] .colab-df-quickchart {\n",
              "    background-color: #3B4455;\n",
              "    fill: #D2E3FC;\n",
              "  }\n",
              "\n",
              "  [theme=dark] .colab-df-quickchart:hover {\n",
              "    background-color: #434B5C;\n",
              "    box-shadow: 0px 1px 3px 1px rgba(0, 0, 0, 0.15);\n",
              "    filter: drop-shadow(0px 1px 2px rgba(0, 0, 0, 0.3));\n",
              "    fill: #FFFFFF;\n",
              "  }\n",
              "</style>\n",
              "\n",
              "    <script>\n",
              "      async function quickchart(key) {\n",
              "        const containerElement = document.querySelector('#' + key);\n",
              "        const charts = await google.colab.kernel.invokeFunction(\n",
              "            'suggestCharts', [key], {});\n",
              "      }\n",
              "    </script>\n",
              "\n",
              "      <script>\n",
              "\n",
              "function displayQuickchartButton(domScope) {\n",
              "  let quickchartButtonEl =\n",
              "    domScope.querySelector('#df-cef47375-bd83-4ed9-84e4-ec267755d770 button.colab-df-quickchart');\n",
              "  quickchartButtonEl.style.display =\n",
              "    google.colab.kernel.accessAllowed ? 'block' : 'none';\n",
              "}\n",
              "\n",
              "        displayQuickchartButton(document);\n",
              "      </script>\n",
              "      <style>\n",
              "    .colab-df-container {\n",
              "      display:flex;\n",
              "      flex-wrap:wrap;\n",
              "      gap: 12px;\n",
              "    }\n",
              "\n",
              "    .colab-df-convert {\n",
              "      background-color: #E8F0FE;\n",
              "      border: none;\n",
              "      border-radius: 50%;\n",
              "      cursor: pointer;\n",
              "      display: none;\n",
              "      fill: #1967D2;\n",
              "      height: 32px;\n",
              "      padding: 0 0 0 0;\n",
              "      width: 32px;\n",
              "    }\n",
              "\n",
              "    .colab-df-convert:hover {\n",
              "      background-color: #E2EBFA;\n",
              "      box-shadow: 0px 1px 2px rgba(60, 64, 67, 0.3), 0px 1px 3px 1px rgba(60, 64, 67, 0.15);\n",
              "      fill: #174EA6;\n",
              "    }\n",
              "\n",
              "    [theme=dark] .colab-df-convert {\n",
              "      background-color: #3B4455;\n",
              "      fill: #D2E3FC;\n",
              "    }\n",
              "\n",
              "    [theme=dark] .colab-df-convert:hover {\n",
              "      background-color: #434B5C;\n",
              "      box-shadow: 0px 1px 3px 1px rgba(0, 0, 0, 0.15);\n",
              "      filter: drop-shadow(0px 1px 2px rgba(0, 0, 0, 0.3));\n",
              "      fill: #FFFFFF;\n",
              "    }\n",
              "  </style>\n",
              "\n",
              "      <script>\n",
              "        const buttonEl =\n",
              "          document.querySelector('#df-eb3be986-5b74-409c-8994-e8eb4a9b948e button.colab-df-convert');\n",
              "        buttonEl.style.display =\n",
              "          google.colab.kernel.accessAllowed ? 'block' : 'none';\n",
              "\n",
              "        async function convertToInteractive(key) {\n",
              "          const element = document.querySelector('#df-eb3be986-5b74-409c-8994-e8eb4a9b948e');\n",
              "          const dataTable =\n",
              "            await google.colab.kernel.invokeFunction('convertToInteractive',\n",
              "                                                     [key], {});\n",
              "          if (!dataTable) return;\n",
              "\n",
              "          const docLinkHtml = 'Like what you see? Visit the ' +\n",
              "            '<a target=\"_blank\" href=https://colab.research.google.com/notebooks/data_table.ipynb>data table notebook</a>'\n",
              "            + ' to learn more about interactive tables.';\n",
              "          element.innerHTML = '';\n",
              "          dataTable['output_type'] = 'display_data';\n",
              "          await google.colab.output.renderOutput(dataTable, element);\n",
              "          const docLink = document.createElement('div');\n",
              "          docLink.innerHTML = docLinkHtml;\n",
              "          element.appendChild(docLink);\n",
              "        }\n",
              "      </script>\n",
              "    </div>\n",
              "  </div>\n"
            ]
          },
          "metadata": {},
          "execution_count": 42
        }
      ]
    },
    {
      "cell_type": "markdown",
      "source": [
        "Итог работы CountVectorizer может показаться менее наглядным, чем метод мешка слов (и кроме того у него нет встроенной возможности лемматизации и стемминга), однако этот класс позволяет выразить слова с помощью числовых векторов."
      ],
      "metadata": {
        "id": "py9swCFHMDx9"
      }
    },
    {
      "cell_type": "markdown",
      "metadata": {
        "id": "ahoLL6IhwVRH"
      },
      "source": [
        "### TF-IDF"
      ]
    },
    {
      "cell_type": "markdown",
      "metadata": {
        "id": "GVomqbuze8nz"
      },
      "source": [
        "#### Способ 1. CountVectorizer + TfidfTransformer"
      ]
    },
    {
      "cell_type": "markdown",
      "metadata": {
        "id": "023pB7-taywP"
      },
      "source": [
        "1) Расчет TF, term frequency, частоты слов"
      ]
    },
    {
      "cell_type": "code",
      "metadata": {
        "id": "VRaJjVB3f0By",
        "colab": {
          "base_uri": "https://localhost:8080/"
        },
        "outputId": "756ee11e-7d6a-430e-9aed-6d0625e9a88c"
      },
      "source": [
        "# этот шаг мы уже выполнили выше\n",
        "bow_cv"
      ],
      "execution_count": 43,
      "outputs": [
        {
          "output_type": "execute_result",
          "data": {
            "text/plain": [
              "<4x15 sparse matrix of type '<class 'numpy.int64'>'\n",
              "\twith 17 stored elements in Compressed Sparse Row format>"
            ]
          },
          "metadata": {},
          "execution_count": 43
        }
      ]
    },
    {
      "cell_type": "markdown",
      "metadata": {
        "id": "qtVVXeMYbBMJ"
      },
      "source": [
        "2) Теперь нужно рассчитать IDF"
      ]
    },
    {
      "cell_type": "code",
      "metadata": {
        "id": "kZd-UCdufc-Z"
      },
      "source": [
        "# импортируем TfidfTransformer (CountVectorizer уже импортирован)\n",
        "from sklearn.feature_extraction.text import TfidfTransformer\n",
        "\n",
        "# создадим объект класса TfidfTransformer\n",
        "tfidf_trans = TfidfTransformer(smooth_idf = True, use_idf = True)\n",
        "\n",
        "# и рассчитаем IDF слов\n",
        "tfidf_trans.fit(bow_cv)\n",
        "\n",
        "# поместим результат в датафрейм\n",
        "df_idf = pd.DataFrame(tfidf_trans.idf_, index = tokens, columns = [\"idf_weights\"])\n",
        "#df_idf"
      ],
      "execution_count": 44,
      "outputs": []
    },
    {
      "cell_type": "markdown",
      "metadata": {
        "id": "1TTWk4ZxbPHB"
      },
      "source": [
        "3) Остаётся TF x IDF"
      ]
    },
    {
      "cell_type": "code",
      "metadata": {
        "colab": {
          "base_uri": "https://localhost:8080/"
        },
        "id": "GSCVgjQbWw4P",
        "outputId": "870130ef-d560-4ac2-d183-3bd1d18fbf92"
      },
      "source": [
        "# рассчитаем TF-IDF (по сути умножим TF на IDF)\n",
        "tf_idf_vector = tfidf_trans.transform(bow_cv)\n",
        "tf_idf_vector"
      ],
      "execution_count": 45,
      "outputs": [
        {
          "output_type": "execute_result",
          "data": {
            "text/plain": [
              "<4x15 sparse matrix of type '<class 'numpy.float64'>'\n",
              "\twith 17 stored elements in Compressed Sparse Row format>"
            ]
          },
          "metadata": {},
          "execution_count": 45
        }
      ]
    },
    {
      "cell_type": "code",
      "metadata": {
        "colab": {
          "base_uri": "https://localhost:8080/"
        },
        "id": "zJ0XAN5KXC94",
        "outputId": "d9ade51c-82f0-49d4-9639-7f331b29e2e6"
      },
      "source": [
        "# теперь мы можем посмотреть на показатель TF-IDF для конкретного слова в конкретном документе\n",
        "\n",
        "# для этого переведем матрицу csr в обычный массив Numpy\n",
        "df_tfidf = pd.DataFrame(tf_idf_vector.toarray(), columns = vectorizer.get_feature_names_out())\n",
        "\n",
        "# и траспонируем его (запишем столбцы в виде строк)\n",
        "print(df_tfidf.T)"
      ],
      "execution_count": 46,
      "outputs": [
        {
          "output_type": "stream",
          "name": "stdout",
          "text": [
            "              0         1         2         3\n",
            "art         0.0  0.344315  0.414289  0.000000\n",
            "enourmous   0.0  0.000000  0.000000  0.617614\n",
            "hours       0.0  0.000000  0.525473  0.000000\n",
            "interested  0.0  0.000000  0.525473  0.000000\n",
            "largest     0.0  0.436719  0.000000  0.000000\n",
            "lot         0.5  0.000000  0.000000  0.000000\n",
            "louvre      0.0  0.436719  0.000000  0.000000\n",
            "museum      0.0  0.344315  0.000000  0.486934\n",
            "museums     0.5  0.000000  0.000000  0.000000\n",
            "paris       0.5  0.000000  0.000000  0.000000\n",
            "spent       0.0  0.000000  0.525473  0.000000\n",
            "visited     0.5  0.000000  0.000000  0.000000\n",
            "week        0.0  0.000000  0.000000  0.617614\n",
            "went        0.0  0.436719  0.000000  0.000000\n",
            "world       0.0  0.436719  0.000000  0.000000\n"
          ]
        }
      ]
    },
    {
      "cell_type": "code",
      "metadata": {
        "colab": {
          "base_uri": "https://localhost:8080/"
        },
        "id": "cZrpXBjrvC9h",
        "outputId": "07dccab0-bdd2-40be-beed-857605bede75"
      },
      "source": [
        "# посмотрим сколько слов оставил нам этот метод после обработки\n",
        "df_tfidf.T.shape"
      ],
      "execution_count": 47,
      "outputs": [
        {
          "output_type": "execute_result",
          "data": {
            "text/plain": [
              "(15, 4)"
            ]
          },
          "metadata": {},
          "execution_count": 47
        }
      ]
    },
    {
      "cell_type": "markdown",
      "metadata": {
        "id": "xv0WfZ87fjEp"
      },
      "source": [
        "#### Способ 2. TfidfVectorizer"
      ]
    },
    {
      "cell_type": "code",
      "metadata": {
        "id": "1H6YPRJqzVtA"
      },
      "source": [
        "# импортируем класс TfidfVectorizer\n",
        "from sklearn.feature_extraction.text import TfidfVectorizer"
      ],
      "execution_count": 48,
      "outputs": []
    },
    {
      "cell_type": "code",
      "metadata": {
        "id": "YEMHdtT738h_",
        "colab": {
          "base_uri": "https://localhost:8080/"
        },
        "outputId": "a99b4c6a-5d7b-4601-c7f7-7226239633fc"
      },
      "source": [
        "# создаем объект класса TfidfVectorizer\n",
        "tfIdfVectorizer = TfidfVectorizer(use_idf = True, stop_words= 'english')\n",
        "\n",
        "# сразу рассчитываем TF-IDF слов\n",
        "tfIdf = tfIdfVectorizer.fit_transform(sentences)\n",
        "tfIdf"
      ],
      "execution_count": 49,
      "outputs": [
        {
          "output_type": "execute_result",
          "data": {
            "text/plain": [
              "<4x15 sparse matrix of type '<class 'numpy.float64'>'\n",
              "\twith 17 stored elements in Compressed Sparse Row format>"
            ]
          },
          "metadata": {},
          "execution_count": 49
        }
      ]
    },
    {
      "cell_type": "code",
      "metadata": {
        "colab": {
          "base_uri": "https://localhost:8080/"
        },
        "id": "4TAi6sbS9_Bn",
        "outputId": "31c06f48-4c68-4942-d47d-45f518f021b0"
      },
      "source": [
        "# можно посмотреть какие слова остались после фильтрации\n",
        "print(tfIdfVectorizer.get_feature_names_out())\n",
        "\n",
        "# например по сравнению со способом 1 выпало наречие always"
      ],
      "execution_count": 50,
      "outputs": [
        {
          "output_type": "stream",
          "name": "stdout",
          "text": [
            "['art' 'enourmous' 'hours' 'interested' 'largest' 'lot' 'louvre' 'museum'\n",
            " 'museums' 'paris' 'spent' 'visited' 'week' 'went' 'world']\n"
          ]
        }
      ]
    },
    {
      "cell_type": "code",
      "metadata": {
        "colab": {
          "base_uri": "https://localhost:8080/"
        },
        "id": "hwlWpb2HD6MI",
        "outputId": "5863b53e-9e8d-4d35-97aa-fc424a1c2837"
      },
      "source": [
        "# также можно посмотреть IDF слов\n",
        "tfIdfVectorizer.idf_"
      ],
      "execution_count": 51,
      "outputs": [
        {
          "output_type": "execute_result",
          "data": {
            "text/plain": [
              "array([1.51082562, 1.91629073, 1.91629073, 1.91629073, 1.91629073,\n",
              "       1.91629073, 1.91629073, 1.51082562, 1.91629073, 1.91629073,\n",
              "       1.91629073, 1.91629073, 1.91629073, 1.91629073, 1.91629073])"
            ]
          },
          "metadata": {},
          "execution_count": 51
        }
      ]
    },
    {
      "cell_type": "code",
      "metadata": {
        "id": "XdyuC_xvFkNW"
      },
      "source": [
        "# через датафрейм мы можем связать слова и их IDF\n",
        "df_idf = pd.DataFrame(tfIdfVectorizer.idf_, index = tfIdfVectorizer.get_feature_names_out(), columns = ['idf_weights'])\n",
        "# df_idf.sort_values(by = 'idf_weights', ascending = False)"
      ],
      "execution_count": 52,
      "outputs": []
    },
    {
      "cell_type": "code",
      "metadata": {
        "colab": {
          "base_uri": "https://localhost:8080/"
        },
        "id": "pqDnLtnDA83v",
        "outputId": "14c403c6-d31f-41a5-dcba-953d756f2774"
      },
      "source": [
        "# количество предложений (документов) х количество слов\n",
        "tfIdf.shape"
      ],
      "execution_count": 53,
      "outputs": [
        {
          "output_type": "execute_result",
          "data": {
            "text/plain": [
              "(4, 15)"
            ]
          },
          "metadata": {},
          "execution_count": 53
        }
      ]
    },
    {
      "cell_type": "markdown",
      "metadata": {
        "id": "bjsM-1rrj3ro"
      },
      "source": [
        "Расчет значения TF-IDF для каждого слова по каждому тексту"
      ]
    },
    {
      "cell_type": "code",
      "metadata": {
        "colab": {
          "base_uri": "https://localhost:8080/"
        },
        "id": "A47DW6LcAd4n",
        "outputId": "ba416008-bf21-4cc8-a0a4-1aeebcf32f3e"
      },
      "source": [
        "# и наконец само значение TF-IDF для конкретного слова в конкретном документе\n",
        "# чем оно уникальнее для конкретного документа, тем выше показатель\n",
        "df_tfidf = pd.DataFrame(tfIdf.toarray(), columns = tfIdfVectorizer.get_feature_names_out())\n",
        "print(df_tfidf.T)"
      ],
      "execution_count": 54,
      "outputs": [
        {
          "output_type": "stream",
          "name": "stdout",
          "text": [
            "              0         1         2         3\n",
            "art         0.0  0.344315  0.414289  0.000000\n",
            "enourmous   0.0  0.000000  0.000000  0.617614\n",
            "hours       0.0  0.000000  0.525473  0.000000\n",
            "interested  0.0  0.000000  0.525473  0.000000\n",
            "largest     0.0  0.436719  0.000000  0.000000\n",
            "lot         0.5  0.000000  0.000000  0.000000\n",
            "louvre      0.0  0.436719  0.000000  0.000000\n",
            "museum      0.0  0.344315  0.000000  0.486934\n",
            "museums     0.5  0.000000  0.000000  0.000000\n",
            "paris       0.5  0.000000  0.000000  0.000000\n",
            "spent       0.0  0.000000  0.525473  0.000000\n",
            "visited     0.5  0.000000  0.000000  0.000000\n",
            "week        0.0  0.000000  0.000000  0.617614\n",
            "went        0.0  0.436719  0.000000  0.000000\n",
            "world       0.0  0.436719  0.000000  0.000000\n"
          ]
        }
      ]
    },
    {
      "cell_type": "markdown",
      "source": [
        "В целом упражнение можно завершить. Однако напомню, что нашей целью было определить тему текста. Для этого мы также можем рассчитать среднее значение TF-IDF для каждого слова по всем текстам.\n",
        "\n",
        "Для этого вычислим среднее арифметическое по строкам матрицы, приведенной выше"
      ],
      "metadata": {
        "id": "DpTc-sQyOj40"
      }
    },
    {
      "cell_type": "markdown",
      "metadata": {
        "id": "FbD1jsJ4epdk"
      },
      "source": [
        "Расчет среднего значения TF-IDF для каждого слова по всем текстам"
      ]
    },
    {
      "cell_type": "code",
      "metadata": {
        "colab": {
          "base_uri": "https://localhost:8080/"
        },
        "id": "IbRZhvrreGP8",
        "outputId": "44d92fec-79c0-4fad-8b6d-382934f65d79"
      },
      "source": [
        "# рассчитаем среднее арифметическое по строкам (axis = 0)\n",
        "tfIdf.mean(axis = 0)"
      ],
      "execution_count": 55,
      "outputs": [
        {
          "output_type": "execute_result",
          "data": {
            "text/plain": [
              "matrix([[0.18965082, 0.15440359, 0.13136819, 0.13136819, 0.10917983,\n",
              "         0.125     , 0.10917983, 0.2078122 , 0.125     , 0.125     ,\n",
              "         0.13136819, 0.125     , 0.15440359, 0.10917983, 0.10917983]])"
            ]
          },
          "metadata": {},
          "execution_count": 55
        }
      ]
    },
    {
      "cell_type": "code",
      "metadata": {
        "colab": {
          "base_uri": "https://localhost:8080/"
        },
        "id": "-Q8tWmeqdqnZ",
        "outputId": "9fc0276c-a88d-4445-a8ba-f218bd7f28f4"
      },
      "source": [
        "# преобразуем матрицу в массив Numpy\n",
        "np.asarray(tfIdf.mean(axis = 0))"
      ],
      "execution_count": 56,
      "outputs": [
        {
          "output_type": "execute_result",
          "data": {
            "text/plain": [
              "array([[0.18965082, 0.15440359, 0.13136819, 0.13136819, 0.10917983,\n",
              "        0.125     , 0.10917983, 0.2078122 , 0.125     , 0.125     ,\n",
              "        0.13136819, 0.125     , 0.15440359, 0.10917983, 0.10917983]])"
            ]
          },
          "metadata": {},
          "execution_count": 56
        }
      ]
    },
    {
      "cell_type": "code",
      "metadata": {
        "colab": {
          "base_uri": "https://localhost:8080/"
        },
        "id": "jg4bzPltfK4o",
        "outputId": "5c73cf8b-968c-437c-c45d-f6c3ef9184d7"
      },
      "source": [
        "# посмотрим сколько измерений\n",
        "np.asarray(tfIdf.mean(axis = 0)).shape"
      ],
      "execution_count": 57,
      "outputs": [
        {
          "output_type": "execute_result",
          "data": {
            "text/plain": [
              "(1, 15)"
            ]
          },
          "metadata": {},
          "execution_count": 57
        }
      ]
    },
    {
      "cell_type": "code",
      "metadata": {
        "colab": {
          "base_uri": "https://localhost:8080/"
        },
        "id": "kt5SB4N1d2Oy",
        "outputId": "a5c4ae82-2423-462a-bafe-b3bc93c7a57e"
      },
      "source": [
        "# уберем второе измерение\n",
        "np.asarray(tfIdf.mean(axis = 0)).ravel()"
      ],
      "execution_count": 58,
      "outputs": [
        {
          "output_type": "execute_result",
          "data": {
            "text/plain": [
              "array([0.18965082, 0.15440359, 0.13136819, 0.13136819, 0.10917983,\n",
              "       0.125     , 0.10917983, 0.2078122 , 0.125     , 0.125     ,\n",
              "       0.13136819, 0.125     , 0.15440359, 0.10917983, 0.10917983])"
            ]
          },
          "metadata": {},
          "execution_count": 58
        }
      ]
    },
    {
      "cell_type": "code",
      "metadata": {
        "colab": {
          "base_uri": "https://localhost:8080/"
        },
        "id": "S2rUNoQ_fWk5",
        "outputId": "81220182-3dfe-4ce1-ed54-e48e1b359c81"
      },
      "source": [
        "# снова смотрим на размерность\n",
        "np.asarray(tfIdf.mean(axis = 0)).ravel().shape"
      ],
      "execution_count": 59,
      "outputs": [
        {
          "output_type": "execute_result",
          "data": {
            "text/plain": [
              "(15,)"
            ]
          },
          "metadata": {},
          "execution_count": 59
        }
      ]
    },
    {
      "cell_type": "code",
      "metadata": {
        "id": "LVL8dWLjKsD1",
        "colab": {
          "base_uri": "https://localhost:8080/"
        },
        "outputId": "d68b0796-e2c0-4985-a345-b21c998841f9"
      },
      "source": [
        "# преобразуем в список\n",
        "mean_weights = np.asarray(tfIdf.mean(axis = 0)).ravel().tolist()\n",
        "print(mean_weights)"
      ],
      "execution_count": 60,
      "outputs": [
        {
          "output_type": "stream",
          "name": "stdout",
          "text": [
            "[0.18965081782108964, 0.15440359274390048, 0.13136818731601646, 0.13136818731601646, 0.10917982746877804, 0.125, 0.10917982746877804, 0.2078121960479979, 0.125, 0.125, 0.13136818731601646, 0.125, 0.15440359274390048, 0.10917982746877804, 0.10917982746877804]\n"
          ]
        }
      ]
    },
    {
      "cell_type": "code",
      "metadata": {
        "colab": {
          "base_uri": "https://localhost:8080/",
          "height": 363
        },
        "id": "SzUBcddZKvqU",
        "outputId": "1a9837d1-2496-4481-97d9-16518324e61c"
      },
      "source": [
        "# создаём датафрейм из словаря\n",
        "mean_weights_df = pd.DataFrame({'term': tfIdfVectorizer.get_feature_names_out(), 'mean_weights': mean_weights})\n",
        "\n",
        "# сортируем по убыванию 10 слов с максимальным средним TF-IDF\n",
        "mean_weights_df.sort_values(by = 'mean_weights', ascending = False).reset_index(drop = True).head(10)"
      ],
      "execution_count": 63,
      "outputs": [
        {
          "output_type": "execute_result",
          "data": {
            "text/plain": [
              "         term  mean_weights\n",
              "0      museum      0.207812\n",
              "1         art      0.189651\n",
              "2   enourmous      0.154404\n",
              "3        week      0.154404\n",
              "4       hours      0.131368\n",
              "5  interested      0.131368\n",
              "6       spent      0.131368\n",
              "7         lot      0.125000\n",
              "8     museums      0.125000\n",
              "9       paris      0.125000"
            ],
            "text/html": [
              "\n",
              "\n",
              "  <div id=\"df-ca889cc0-c8cb-44d3-9ac4-0f3d7e82add6\">\n",
              "    <div class=\"colab-df-container\">\n",
              "      <div>\n",
              "<style scoped>\n",
              "    .dataframe tbody tr th:only-of-type {\n",
              "        vertical-align: middle;\n",
              "    }\n",
              "\n",
              "    .dataframe tbody tr th {\n",
              "        vertical-align: top;\n",
              "    }\n",
              "\n",
              "    .dataframe thead th {\n",
              "        text-align: right;\n",
              "    }\n",
              "</style>\n",
              "<table border=\"1\" class=\"dataframe\">\n",
              "  <thead>\n",
              "    <tr style=\"text-align: right;\">\n",
              "      <th></th>\n",
              "      <th>term</th>\n",
              "      <th>mean_weights</th>\n",
              "    </tr>\n",
              "  </thead>\n",
              "  <tbody>\n",
              "    <tr>\n",
              "      <th>0</th>\n",
              "      <td>museum</td>\n",
              "      <td>0.207812</td>\n",
              "    </tr>\n",
              "    <tr>\n",
              "      <th>1</th>\n",
              "      <td>art</td>\n",
              "      <td>0.189651</td>\n",
              "    </tr>\n",
              "    <tr>\n",
              "      <th>2</th>\n",
              "      <td>enourmous</td>\n",
              "      <td>0.154404</td>\n",
              "    </tr>\n",
              "    <tr>\n",
              "      <th>3</th>\n",
              "      <td>week</td>\n",
              "      <td>0.154404</td>\n",
              "    </tr>\n",
              "    <tr>\n",
              "      <th>4</th>\n",
              "      <td>hours</td>\n",
              "      <td>0.131368</td>\n",
              "    </tr>\n",
              "    <tr>\n",
              "      <th>5</th>\n",
              "      <td>interested</td>\n",
              "      <td>0.131368</td>\n",
              "    </tr>\n",
              "    <tr>\n",
              "      <th>6</th>\n",
              "      <td>spent</td>\n",
              "      <td>0.131368</td>\n",
              "    </tr>\n",
              "    <tr>\n",
              "      <th>7</th>\n",
              "      <td>lot</td>\n",
              "      <td>0.125000</td>\n",
              "    </tr>\n",
              "    <tr>\n",
              "      <th>8</th>\n",
              "      <td>museums</td>\n",
              "      <td>0.125000</td>\n",
              "    </tr>\n",
              "    <tr>\n",
              "      <th>9</th>\n",
              "      <td>paris</td>\n",
              "      <td>0.125000</td>\n",
              "    </tr>\n",
              "  </tbody>\n",
              "</table>\n",
              "</div>\n",
              "      <button class=\"colab-df-convert\" onclick=\"convertToInteractive('df-ca889cc0-c8cb-44d3-9ac4-0f3d7e82add6')\"\n",
              "              title=\"Convert this dataframe to an interactive table.\"\n",
              "              style=\"display:none;\">\n",
              "\n",
              "  <svg xmlns=\"http://www.w3.org/2000/svg\" height=\"24px\"viewBox=\"0 0 24 24\"\n",
              "       width=\"24px\">\n",
              "    <path d=\"M0 0h24v24H0V0z\" fill=\"none\"/>\n",
              "    <path d=\"M18.56 5.44l.94 2.06.94-2.06 2.06-.94-2.06-.94-.94-2.06-.94 2.06-2.06.94zm-11 1L8.5 8.5l.94-2.06 2.06-.94-2.06-.94L8.5 2.5l-.94 2.06-2.06.94zm10 10l.94 2.06.94-2.06 2.06-.94-2.06-.94-.94-2.06-.94 2.06-2.06.94z\"/><path d=\"M17.41 7.96l-1.37-1.37c-.4-.4-.92-.59-1.43-.59-.52 0-1.04.2-1.43.59L10.3 9.45l-7.72 7.72c-.78.78-.78 2.05 0 2.83L4 21.41c.39.39.9.59 1.41.59.51 0 1.02-.2 1.41-.59l7.78-7.78 2.81-2.81c.8-.78.8-2.07 0-2.86zM5.41 20L4 18.59l7.72-7.72 1.47 1.35L5.41 20z\"/>\n",
              "  </svg>\n",
              "      </button>\n",
              "\n",
              "\n",
              "\n",
              "    <div id=\"df-47df1dd8-561c-45e8-96c1-e321ed2a6dba\">\n",
              "      <button class=\"colab-df-quickchart\" onclick=\"quickchart('df-47df1dd8-561c-45e8-96c1-e321ed2a6dba')\"\n",
              "              title=\"Suggest charts.\"\n",
              "              style=\"display:none;\">\n",
              "\n",
              "<svg xmlns=\"http://www.w3.org/2000/svg\" height=\"24px\"viewBox=\"0 0 24 24\"\n",
              "     width=\"24px\">\n",
              "    <g>\n",
              "        <path d=\"M19 3H5c-1.1 0-2 .9-2 2v14c0 1.1.9 2 2 2h14c1.1 0 2-.9 2-2V5c0-1.1-.9-2-2-2zM9 17H7v-7h2v7zm4 0h-2V7h2v10zm4 0h-2v-4h2v4z\"/>\n",
              "    </g>\n",
              "</svg>\n",
              "      </button>\n",
              "    </div>\n",
              "\n",
              "<style>\n",
              "  .colab-df-quickchart {\n",
              "    background-color: #E8F0FE;\n",
              "    border: none;\n",
              "    border-radius: 50%;\n",
              "    cursor: pointer;\n",
              "    display: none;\n",
              "    fill: #1967D2;\n",
              "    height: 32px;\n",
              "    padding: 0 0 0 0;\n",
              "    width: 32px;\n",
              "  }\n",
              "\n",
              "  .colab-df-quickchart:hover {\n",
              "    background-color: #E2EBFA;\n",
              "    box-shadow: 0px 1px 2px rgba(60, 64, 67, 0.3), 0px 1px 3px 1px rgba(60, 64, 67, 0.15);\n",
              "    fill: #174EA6;\n",
              "  }\n",
              "\n",
              "  [theme=dark] .colab-df-quickchart {\n",
              "    background-color: #3B4455;\n",
              "    fill: #D2E3FC;\n",
              "  }\n",
              "\n",
              "  [theme=dark] .colab-df-quickchart:hover {\n",
              "    background-color: #434B5C;\n",
              "    box-shadow: 0px 1px 3px 1px rgba(0, 0, 0, 0.15);\n",
              "    filter: drop-shadow(0px 1px 2px rgba(0, 0, 0, 0.3));\n",
              "    fill: #FFFFFF;\n",
              "  }\n",
              "</style>\n",
              "\n",
              "    <script>\n",
              "      async function quickchart(key) {\n",
              "        const containerElement = document.querySelector('#' + key);\n",
              "        const charts = await google.colab.kernel.invokeFunction(\n",
              "            'suggestCharts', [key], {});\n",
              "      }\n",
              "    </script>\n",
              "\n",
              "      <script>\n",
              "\n",
              "function displayQuickchartButton(domScope) {\n",
              "  let quickchartButtonEl =\n",
              "    domScope.querySelector('#df-47df1dd8-561c-45e8-96c1-e321ed2a6dba button.colab-df-quickchart');\n",
              "  quickchartButtonEl.style.display =\n",
              "    google.colab.kernel.accessAllowed ? 'block' : 'none';\n",
              "}\n",
              "\n",
              "        displayQuickchartButton(document);\n",
              "      </script>\n",
              "      <style>\n",
              "    .colab-df-container {\n",
              "      display:flex;\n",
              "      flex-wrap:wrap;\n",
              "      gap: 12px;\n",
              "    }\n",
              "\n",
              "    .colab-df-convert {\n",
              "      background-color: #E8F0FE;\n",
              "      border: none;\n",
              "      border-radius: 50%;\n",
              "      cursor: pointer;\n",
              "      display: none;\n",
              "      fill: #1967D2;\n",
              "      height: 32px;\n",
              "      padding: 0 0 0 0;\n",
              "      width: 32px;\n",
              "    }\n",
              "\n",
              "    .colab-df-convert:hover {\n",
              "      background-color: #E2EBFA;\n",
              "      box-shadow: 0px 1px 2px rgba(60, 64, 67, 0.3), 0px 1px 3px 1px rgba(60, 64, 67, 0.15);\n",
              "      fill: #174EA6;\n",
              "    }\n",
              "\n",
              "    [theme=dark] .colab-df-convert {\n",
              "      background-color: #3B4455;\n",
              "      fill: #D2E3FC;\n",
              "    }\n",
              "\n",
              "    [theme=dark] .colab-df-convert:hover {\n",
              "      background-color: #434B5C;\n",
              "      box-shadow: 0px 1px 3px 1px rgba(0, 0, 0, 0.15);\n",
              "      filter: drop-shadow(0px 1px 2px rgba(0, 0, 0, 0.3));\n",
              "      fill: #FFFFFF;\n",
              "    }\n",
              "  </style>\n",
              "\n",
              "      <script>\n",
              "        const buttonEl =\n",
              "          document.querySelector('#df-ca889cc0-c8cb-44d3-9ac4-0f3d7e82add6 button.colab-df-convert');\n",
              "        buttonEl.style.display =\n",
              "          google.colab.kernel.accessAllowed ? 'block' : 'none';\n",
              "\n",
              "        async function convertToInteractive(key) {\n",
              "          const element = document.querySelector('#df-ca889cc0-c8cb-44d3-9ac4-0f3d7e82add6');\n",
              "          const dataTable =\n",
              "            await google.colab.kernel.invokeFunction('convertToInteractive',\n",
              "                                                     [key], {});\n",
              "          if (!dataTable) return;\n",
              "\n",
              "          const docLinkHtml = 'Like what you see? Visit the ' +\n",
              "            '<a target=\"_blank\" href=https://colab.research.google.com/notebooks/data_table.ipynb>data table notebook</a>'\n",
              "            + ' to learn more about interactive tables.';\n",
              "          element.innerHTML = '';\n",
              "          dataTable['output_type'] = 'display_data';\n",
              "          await google.colab.output.renderOutput(dataTable, element);\n",
              "          const docLink = document.createElement('div');\n",
              "          docLink.innerHTML = docLinkHtml;\n",
              "          element.appendChild(docLink);\n",
              "        }\n",
              "      </script>\n",
              "    </div>\n",
              "  </div>\n"
            ]
          },
          "metadata": {},
          "execution_count": 63
        }
      ]
    },
    {
      "cell_type": "markdown",
      "metadata": {
        "id": "orKxhODdL3o1"
      },
      "source": [
        "### Дополнительные примеры"
      ]
    },
    {
      "cell_type": "markdown",
      "metadata": {
        "id": "mTPeAW-yMSuA"
      },
      "source": [
        "#### Косинусное расстояние между текстовыми векторами"
      ]
    },
    {
      "cell_type": "code",
      "metadata": {
        "id": "NjAmyNKgL6l0"
      },
      "source": [
        "# from sklearn.feature_extraction.text import TfidfVectorizer\n",
        "# from scipy.sparse.csr import csr_matrix\n",
        "# import numpy as np\n",
        "# import pandas as pd"
      ],
      "execution_count": null,
      "outputs": []
    },
    {
      "cell_type": "code",
      "metadata": {
        "colab": {
          "base_uri": "https://localhost:8080/"
        },
        "id": "pQXhKJhNMx2J",
        "outputId": "beacb406-40fc-4ef1-b2b5-23dc014126f0"
      },
      "source": [
        "# возьмем для простоты два текста (предложения)\n",
        "text1 = 'all the world’s a stage, and all the men and women merely players'\n",
        "text2 = 'you must be the change you wish to see in the world'\n",
        "\n",
        "# объединим их в корпус\n",
        "corpus = [text1, text2]\n",
        "\n",
        "# создадим объект класса TfidfVectorizer\n",
        "tfIdfVectorizer = TfidfVectorizer(use_idf = True, stop_words = 'english')\n",
        "\n",
        "# на выходе получаем два вектора, где каждое значение - это вес (показатель tf-idf) слова\n",
        "X = tfIdfVectorizer.fit_transform(corpus)\n",
        "\n",
        "# преобразуем данные формат массива Numpy\n",
        "print(X.toarray())"
      ],
      "execution_count": null,
      "outputs": [
        {
          "output_type": "stream",
          "name": "stdout",
          "text": [
            "[[0.         0.4261596  0.4261596  0.4261596  0.4261596  0.\n",
            "  0.4261596  0.30321606]\n",
            " [0.6316672  0.         0.         0.         0.         0.6316672\n",
            "  0.         0.44943642]]\n"
          ]
        }
      ]
    },
    {
      "cell_type": "code",
      "metadata": {
        "colab": {
          "base_uri": "https://localhost:8080/",
          "height": 112
        },
        "id": "JTwMv_ZbO2cQ",
        "outputId": "8f37acd0-94d5-4de1-d391-abd30790e310"
      },
      "source": [
        "# для удобства можем посмотреть на веса в формате датафрейма\n",
        "vectors_df = pd.DataFrame(data = X.toarray(),\n",
        "                          index = ['vector1', 'vector2'],\n",
        "                          columns = tfIdfVectorizer.get_feature_names_out())\n",
        "vectors_df"
      ],
      "execution_count": null,
      "outputs": [
        {
          "output_type": "execute_result",
          "data": {
            "text/html": [
              "\n",
              "  <div id=\"df-9e2dab89-ad09-49dd-a937-f1ce46cdb37c\">\n",
              "    <div class=\"colab-df-container\">\n",
              "      <div>\n",
              "<style scoped>\n",
              "    .dataframe tbody tr th:only-of-type {\n",
              "        vertical-align: middle;\n",
              "    }\n",
              "\n",
              "    .dataframe tbody tr th {\n",
              "        vertical-align: top;\n",
              "    }\n",
              "\n",
              "    .dataframe thead th {\n",
              "        text-align: right;\n",
              "    }\n",
              "</style>\n",
              "<table border=\"1\" class=\"dataframe\">\n",
              "  <thead>\n",
              "    <tr style=\"text-align: right;\">\n",
              "      <th></th>\n",
              "      <th>change</th>\n",
              "      <th>men</th>\n",
              "      <th>merely</th>\n",
              "      <th>players</th>\n",
              "      <th>stage</th>\n",
              "      <th>wish</th>\n",
              "      <th>women</th>\n",
              "      <th>world</th>\n",
              "    </tr>\n",
              "  </thead>\n",
              "  <tbody>\n",
              "    <tr>\n",
              "      <th>vector1</th>\n",
              "      <td>0.000000</td>\n",
              "      <td>0.42616</td>\n",
              "      <td>0.42616</td>\n",
              "      <td>0.42616</td>\n",
              "      <td>0.42616</td>\n",
              "      <td>0.000000</td>\n",
              "      <td>0.42616</td>\n",
              "      <td>0.303216</td>\n",
              "    </tr>\n",
              "    <tr>\n",
              "      <th>vector2</th>\n",
              "      <td>0.631667</td>\n",
              "      <td>0.00000</td>\n",
              "      <td>0.00000</td>\n",
              "      <td>0.00000</td>\n",
              "      <td>0.00000</td>\n",
              "      <td>0.631667</td>\n",
              "      <td>0.00000</td>\n",
              "      <td>0.449436</td>\n",
              "    </tr>\n",
              "  </tbody>\n",
              "</table>\n",
              "</div>\n",
              "      <button class=\"colab-df-convert\" onclick=\"convertToInteractive('df-9e2dab89-ad09-49dd-a937-f1ce46cdb37c')\"\n",
              "              title=\"Convert this dataframe to an interactive table.\"\n",
              "              style=\"display:none;\">\n",
              "        \n",
              "  <svg xmlns=\"http://www.w3.org/2000/svg\" height=\"24px\"viewBox=\"0 0 24 24\"\n",
              "       width=\"24px\">\n",
              "    <path d=\"M0 0h24v24H0V0z\" fill=\"none\"/>\n",
              "    <path d=\"M18.56 5.44l.94 2.06.94-2.06 2.06-.94-2.06-.94-.94-2.06-.94 2.06-2.06.94zm-11 1L8.5 8.5l.94-2.06 2.06-.94-2.06-.94L8.5 2.5l-.94 2.06-2.06.94zm10 10l.94 2.06.94-2.06 2.06-.94-2.06-.94-.94-2.06-.94 2.06-2.06.94z\"/><path d=\"M17.41 7.96l-1.37-1.37c-.4-.4-.92-.59-1.43-.59-.52 0-1.04.2-1.43.59L10.3 9.45l-7.72 7.72c-.78.78-.78 2.05 0 2.83L4 21.41c.39.39.9.59 1.41.59.51 0 1.02-.2 1.41-.59l7.78-7.78 2.81-2.81c.8-.78.8-2.07 0-2.86zM5.41 20L4 18.59l7.72-7.72 1.47 1.35L5.41 20z\"/>\n",
              "  </svg>\n",
              "      </button>\n",
              "      \n",
              "  <style>\n",
              "    .colab-df-container {\n",
              "      display:flex;\n",
              "      flex-wrap:wrap;\n",
              "      gap: 12px;\n",
              "    }\n",
              "\n",
              "    .colab-df-convert {\n",
              "      background-color: #E8F0FE;\n",
              "      border: none;\n",
              "      border-radius: 50%;\n",
              "      cursor: pointer;\n",
              "      display: none;\n",
              "      fill: #1967D2;\n",
              "      height: 32px;\n",
              "      padding: 0 0 0 0;\n",
              "      width: 32px;\n",
              "    }\n",
              "\n",
              "    .colab-df-convert:hover {\n",
              "      background-color: #E2EBFA;\n",
              "      box-shadow: 0px 1px 2px rgba(60, 64, 67, 0.3), 0px 1px 3px 1px rgba(60, 64, 67, 0.15);\n",
              "      fill: #174EA6;\n",
              "    }\n",
              "\n",
              "    [theme=dark] .colab-df-convert {\n",
              "      background-color: #3B4455;\n",
              "      fill: #D2E3FC;\n",
              "    }\n",
              "\n",
              "    [theme=dark] .colab-df-convert:hover {\n",
              "      background-color: #434B5C;\n",
              "      box-shadow: 0px 1px 3px 1px rgba(0, 0, 0, 0.15);\n",
              "      filter: drop-shadow(0px 1px 2px rgba(0, 0, 0, 0.3));\n",
              "      fill: #FFFFFF;\n",
              "    }\n",
              "  </style>\n",
              "\n",
              "      <script>\n",
              "        const buttonEl =\n",
              "          document.querySelector('#df-9e2dab89-ad09-49dd-a937-f1ce46cdb37c button.colab-df-convert');\n",
              "        buttonEl.style.display =\n",
              "          google.colab.kernel.accessAllowed ? 'block' : 'none';\n",
              "\n",
              "        async function convertToInteractive(key) {\n",
              "          const element = document.querySelector('#df-9e2dab89-ad09-49dd-a937-f1ce46cdb37c');\n",
              "          const dataTable =\n",
              "            await google.colab.kernel.invokeFunction('convertToInteractive',\n",
              "                                                     [key], {});\n",
              "          if (!dataTable) return;\n",
              "\n",
              "          const docLinkHtml = 'Like what you see? Visit the ' +\n",
              "            '<a target=\"_blank\" href=https://colab.research.google.com/notebooks/data_table.ipynb>data table notebook</a>'\n",
              "            + ' to learn more about interactive tables.';\n",
              "          element.innerHTML = '';\n",
              "          dataTable['output_type'] = 'display_data';\n",
              "          await google.colab.output.renderOutput(dataTable, element);\n",
              "          const docLink = document.createElement('div');\n",
              "          docLink.innerHTML = docLinkHtml;\n",
              "          element.appendChild(docLink);\n",
              "        }\n",
              "      </script>\n",
              "    </div>\n",
              "  </div>\n",
              "  "
            ],
            "text/plain": [
              "           change      men   merely  ...      wish    women     world\n",
              "vector1  0.000000  0.42616  0.42616  ...  0.000000  0.42616  0.303216\n",
              "vector2  0.631667  0.00000  0.00000  ...  0.631667  0.00000  0.449436\n",
              "\n",
              "[2 rows x 8 columns]"
            ]
          },
          "metadata": {},
          "execution_count": 89
        }
      ]
    },
    {
      "cell_type": "markdown",
      "metadata": {
        "id": "dBDrj4OuMm8l"
      },
      "source": [
        "Напомню формулу косинусного расстояния:\n",
        "\n",
        "$$ \\cos(\\theta )={\\mathbf {a} \\cdot \\mathbf {b} \\over \\|\\mathbf {a} \\|\\|\\mathbf {b} \\|} $$"
      ]
    },
    {
      "cell_type": "code",
      "metadata": {
        "id": "2II-ulWhMqcU"
      },
      "source": [
        "# возьмем вектора по отдельности\n",
        "vector1 = X.toarray()[0]\n",
        "vector2 = X.toarray()[1]"
      ],
      "execution_count": null,
      "outputs": []
    },
    {
      "cell_type": "code",
      "metadata": {
        "id": "wGSk7TsDTQ66"
      },
      "source": [
        "# вначале выполним операции в числителе формулы\n",
        "numerator = np.dot(vector1, vector2)"
      ],
      "execution_count": null,
      "outputs": []
    },
    {
      "cell_type": "code",
      "metadata": {
        "id": "kYy73KmiTZNo"
      },
      "source": [
        "# теперь займемся знаменателем и\n",
        "# (1) рассчитаем длины (по большому счету, это теорема Пифагора)\n",
        "vector1Len = np.linalg.norm(vector1)\n",
        "vector2Len = np.linalg.norm(vector2)\n",
        "\n",
        "# (2) перемножим их\n",
        "denominator = vector1Len * vector2Len"
      ],
      "execution_count": null,
      "outputs": []
    },
    {
      "cell_type": "code",
      "metadata": {
        "colab": {
          "base_uri": "https://localhost:8080/"
        },
        "id": "LZLhzIlQTo8D",
        "outputId": "65171097-4ada-4f83-f5e6-73e7222ddab5"
      },
      "source": [
        "# посмотрим, чему равен косинус угла между векторами\n",
        "cosine = numerator/denominator\n",
        "cosine"
      ],
      "execution_count": null,
      "outputs": [
        {
          "output_type": "execute_result",
          "data": {
            "text/plain": [
              "0.13627634143908643"
            ]
          },
          "metadata": {},
          "execution_count": 93
        }
      ]
    },
    {
      "cell_type": "code",
      "metadata": {
        "colab": {
          "base_uri": "https://localhost:8080/"
        },
        "id": "8GzHUtfMTqB9",
        "outputId": "a931ea52-43a8-433c-cf90-1df4f6567d49"
      },
      "source": [
        "# найдем угол в градусах по его косинусу\n",
        "# для этого вначале вычислим угол в радианах\n",
        "angle_radians = np.arccos(cosine)\n",
        "\n",
        "# затем в градусах\n",
        "angle_degrees = angle_radians * 360/2/np.pi\n",
        "round(angle_degrees, 2)"
      ],
      "execution_count": null,
      "outputs": [
        {
          "output_type": "execute_result",
          "data": {
            "text/plain": [
              "82.17"
            ]
          },
          "metadata": {},
          "execution_count": 94
        }
      ]
    },
    {
      "cell_type": "markdown",
      "metadata": {
        "id": "yWV7Qcrc-R3K"
      },
      "source": [
        "#### Кластерный анализ текста"
      ]
    },
    {
      "cell_type": "code",
      "metadata": {
        "id": "bOxXBC9R-T5s"
      },
      "source": [
        "# в тексте ниже две темы: наука о данных и Большой театр (источник: Википедия)\n",
        "text = '''\n",
        "Data science is an interdisciplinary field that uses scientific methods, processes, algorithms and systems to extract knowledge and insights from noisy, structured and unstructured data.\n",
        "It applies knowledge and actionable insights from data across a broad range of application domains.\n",
        "Data science is related to data mining, machine learning and big data.\n",
        "The Bolshoi Theatre is a historic theatre in Moscow, Russia.\n",
        "It was originally designed by architect Joseph Bové, which holds ballet and opera performances.\n",
        "Before the October Revolution it was a part of the Imperial Theatres of the Russian Empire along with Maly Theatre in Moscow and a few theatres in Saint Petersburg.\n",
        "Data science is a concept to unify statistics, data analysis, informatics, and their related methods in order to understand and analyze actual phenomena with data.\n",
        "However, data science is different from computer science and information science.\n",
        "The main building of the theatre, rebuilt and renovated several times during its history, is a landmark of Moscow and Russia.\n",
        "On 28 October 2011, the Bolshoi re-opened after an extensive six-year renovation.\n",
        "'''"
      ],
      "execution_count": 64,
      "outputs": []
    },
    {
      "cell_type": "code",
      "metadata": {
        "id": "URq4UO70_HIe",
        "colab": {
          "base_uri": "https://localhost:8080/",
          "height": 54
        },
        "outputId": "92ef13fa-0ec5-43ec-98c8-4f5869ada168"
      },
      "source": [
        "'''\n",
        "# создадим список из предложений\n",
        "corpus = []\n",
        "\n",
        "# для этого в цикле for пройдемся по тексту, разделив его по символу новой строки \\n\n",
        "for line in text.split('\\n'):\n",
        "\n",
        "  # если строка не пустая (т.е. True)\n",
        "  if line:\n",
        "\n",
        "    # переводим ее в нижний регистр\n",
        "    line = line.lower()\n",
        "    # и добавляем в список\n",
        "    corpus.append(line)\n",
        "'''"
      ],
      "execution_count": 73,
      "outputs": [
        {
          "output_type": "execute_result",
          "data": {
            "text/plain": [
              "\"\\n# создадим список из предложений\\ncorpus = []\\n\\n# для этого в цикле for пройдемся по тексту, разделив его по символу новой строки \\n\\nfor line in text.split('\\n'):\\n\\n  # если строка не пустая (т.е. True)\\n  if line:\\n\\n    # переводим ее в нижний регистр\\n    line = line.lower()\\n    # и добавляем в список\\n    corpus.append(line) \\n\""
            ],
            "application/vnd.google.colaboratory.intrinsic+json": {
              "type": "string"
            }
          },
          "metadata": {},
          "execution_count": 73
        }
      ]
    },
    {
      "cell_type": "code",
      "source": [
        "# предыдущий юлок закомменчен - он делает то же самое, что и эта строка:\n",
        "corpus = list(text.lower().strip().split('\\n'))"
      ],
      "metadata": {
        "id": "TmvEUsOjPfju"
      },
      "execution_count": 75,
      "outputs": []
    },
    {
      "cell_type": "code",
      "metadata": {
        "colab": {
          "base_uri": "https://localhost:8080/"
        },
        "id": "rykJ5ZyeBa1a",
        "outputId": "bbd9baeb-b838-4f3c-ec9b-b71775daa276"
      },
      "source": [
        "corpus"
      ],
      "execution_count": 76,
      "outputs": [
        {
          "output_type": "execute_result",
          "data": {
            "text/plain": [
              "['data science is an interdisciplinary field that uses scientific methods, processes, algorithms and systems to extract knowledge and insights from noisy, structured and unstructured data.',\n",
              " 'it applies knowledge and actionable insights from data across a broad range of application domains.',\n",
              " 'data science is related to data mining, machine learning and big data.',\n",
              " 'the bolshoi theatre is a historic theatre in moscow, russia.',\n",
              " 'it was originally designed by architect joseph bové, which holds ballet and opera performances.',\n",
              " 'before the october revolution it was a part of the imperial theatres of the russian empire along with maly theatre in moscow and a few theatres in saint petersburg.',\n",
              " 'data science is a concept to unify statistics, data analysis, informatics, and their related methods in order to understand and analyze actual phenomena with data.',\n",
              " 'however, data science is different from computer science and information science.',\n",
              " 'the main building of the theatre, rebuilt and renovated several times during its history, is a landmark of moscow and russia.',\n",
              " 'on 28 october 2011, the bolshoi re-opened after an extensive six-year renovation.']"
            ]
          },
          "metadata": {},
          "execution_count": 76
        }
      ]
    },
    {
      "cell_type": "code",
      "metadata": {
        "id": "hMYN-CuWBgoY"
      },
      "source": [
        "# применим TfidfVectorizer\n",
        "tfIdfVectorizer = TfidfVectorizer(use_idf = True, stop_words= 'english')\n",
        "\n",
        "# на выходе получаем векторы предложений\n",
        "X = tfIdfVectorizer.fit_transform(corpus)\n",
        "# print(X.toarray())"
      ],
      "execution_count": 77,
      "outputs": []
    },
    {
      "cell_type": "code",
      "metadata": {
        "id": "GrfvoegnCjIq",
        "colab": {
          "base_uri": "https://localhost:8080/"
        },
        "outputId": "9b86dadf-9ee2-40c1-f45e-cea2b7ad6fcf"
      },
      "source": [
        "# импортируем алгоритм k-средних из библиотеки sklearn\n",
        "from sklearn.cluster import KMeans\n",
        "\n",
        "# так как мы знаем, что темы две, используем гиперпараметр k = 2\n",
        "kmeans = KMeans(n_clusters = 2).fit(X)"
      ],
      "execution_count": 78,
      "outputs": [
        {
          "output_type": "stream",
          "name": "stderr",
          "text": [
            "/usr/local/lib/python3.10/dist-packages/sklearn/cluster/_kmeans.py:870: FutureWarning: The default value of `n_init` will change from 10 to 'auto' in 1.4. Set the value of `n_init` explicitly to suppress the warning\n",
            "  warnings.warn(\n"
          ]
        }
      ]
    },
    {
      "cell_type": "code",
      "metadata": {
        "colab": {
          "base_uri": "https://localhost:8080/"
        },
        "id": "AVBrBMMNC1I5",
        "outputId": "db5228b1-0123-4c94-9ad8-111bc19c1d38"
      },
      "source": [
        "# возьмем новые предложения, одно из области Data Science и два про Большой театр\n",
        "prediction = ['Many statisticians, including Nate Silver, have argued that data science is not a new field, but rather another name for statistics.',\n",
        "              'Urusov set up the theatre in collaboration with English tightrope walker Michael Maddox.',\n",
        "              'Until the mid-1990s, most foreign operas were sung in Russian, but Italian and other languages have been heard more frequently on the Bolshoi stage in recent years.']\n",
        "\n",
        "# применим две модели, сначала создадим векторы новых предложений (tfIdfVectorizer.transform),\n",
        "# затем отнесем их к одному из кластеров (kmeans.predict)\n",
        "kmeans.predict(tfIdfVectorizer.transform(prediction))"
      ],
      "execution_count": 79,
      "outputs": [
        {
          "output_type": "execute_result",
          "data": {
            "text/plain": [
              "array([0, 1, 1], dtype=int32)"
            ]
          },
          "metadata": {},
          "execution_count": 79
        }
      ]
    },
    {
      "cell_type": "code",
      "metadata": {
        "id": "QCDTXKGkaVZ-"
      },
      "source": [],
      "execution_count": null,
      "outputs": []
    }
  ]
}