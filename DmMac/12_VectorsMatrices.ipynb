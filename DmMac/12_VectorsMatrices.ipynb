{
  "nbformat": 4,
  "nbformat_minor": 0,
  "metadata": {
    "colab": {
      "provenance": [],
      "toc_visible": true
    },
    "kernelspec": {
      "name": "python3",
      "display_name": "Python 3"
    },
    "language_info": {
      "name": "python"
    }
  },
  "cells": [
    {
      "cell_type": "markdown",
      "metadata": {
        "id": "La_cEqh418R7"
      },
      "source": [
        "## Векторы и матрицы"
      ]
    },
    {
      "cell_type": "markdown",
      "metadata": {
        "id": "ITSohtIb3xri"
      },
      "source": [
        "### Массив Numpy (Numpy array)"
      ]
    },
    {
      "cell_type": "code",
      "metadata": {
        "id": "pD3xI-y148Dx"
      },
      "source": [
        "import numpy as np"
      ],
      "execution_count": 1,
      "outputs": []
    },
    {
      "cell_type": "code",
      "metadata": {
        "id": "y1_WVreA14IF"
      },
      "source": [
        "# предположим мы записали наши данные\n",
        "# роста, веса и обхвата шеи одного человека в список\n",
        "data = [1.72, 54, 36.2]"
      ],
      "execution_count": 2,
      "outputs": []
    },
    {
      "cell_type": "code",
      "metadata": {
        "colab": {
          "base_uri": "https://localhost:8080/"
        },
        "id": "aLumw2iL4bKM",
        "outputId": "090f2018-118b-4f30-c3ec-7a2e046d19d1"
      },
      "source": [
        "# убедимся, что это список с помощью функции type()\n",
        "type(data)"
      ],
      "execution_count": 3,
      "outputs": [
        {
          "output_type": "execute_result",
          "data": {
            "text/plain": [
              "list"
            ]
          },
          "metadata": {},
          "execution_count": 3
        }
      ]
    },
    {
      "cell_type": "code",
      "metadata": {
        "colab": {
          "base_uri": "https://localhost:8080/"
        },
        "id": "KoaFIduc4vqW",
        "outputId": "d394ac80-b308-4ac5-be71-5886cc567a77"
      },
      "source": [
        "# преобразуем список в массив Numpy\n",
        "data_Numpy = np.array(data)\n",
        "data_Numpy"
      ],
      "execution_count": 4,
      "outputs": [
        {
          "output_type": "execute_result",
          "data": {
            "text/plain": [
              "array([ 1.72, 54.  , 36.2 ])"
            ]
          },
          "metadata": {},
          "execution_count": 4
        }
      ]
    },
    {
      "cell_type": "code",
      "metadata": {
        "colab": {
          "base_uri": "https://localhost:8080/"
        },
        "id": "pSFD2lOR45VW",
        "outputId": "b7753192-31a9-4337-b999-85bd30a6548a"
      },
      "source": [
        "# если у нас несколько наблюдений, то нужна матрица, т.е.\n",
        "# по сути, несколько векторов\n",
        "data_matrix = np.array([[1.72, 54, 36.2], [1.74, 58, 36.3], [1.68, 52, 32.9]])\n",
        "data_matrix"
      ],
      "execution_count": 5,
      "outputs": [
        {
          "output_type": "execute_result",
          "data": {
            "text/plain": [
              "array([[ 1.72, 54.  , 36.2 ],\n",
              "       [ 1.74, 58.  , 36.3 ],\n",
              "       [ 1.68, 52.  , 32.9 ]])"
            ]
          },
          "metadata": {},
          "execution_count": 5
        }
      ]
    },
    {
      "cell_type": "code",
      "metadata": {
        "colab": {
          "base_uri": "https://localhost:8080/"
        },
        "id": "gZUsnCdh6FBX",
        "outputId": "dd71c739-44a4-432a-f4d6-891c4bd460a7"
      },
      "source": [
        "# мы можем посмотреть размерность матрицы (количество строк и столбцов)\n",
        "data_matrix.shape"
      ],
      "execution_count": 6,
      "outputs": [
        {
          "output_type": "execute_result",
          "data": {
            "text/plain": [
              "(3, 3)"
            ]
          },
          "metadata": {},
          "execution_count": 6
        }
      ]
    },
    {
      "cell_type": "markdown",
      "metadata": {
        "id": "P1BzMhSL6nPc"
      },
      "source": [
        "### Скалярное произведение векторов (dot product)"
      ]
    },
    {
      "cell_type": "markdown",
      "metadata": {
        "id": "6xsjBTTiCbN2"
      },
      "source": [
        "Напомню формулу:\n",
        "\n",
        "  $$\\vec{a}=(a_{1}, a_{2})$$\n",
        "  $$\\vec{w}=(w_{1}, w_{2})$$\n",
        "  $$\\vec{a}\\cdot\\vec{w}=a_{1}w_{1}+a_{2}w_{2}$$"
      ]
    },
    {
      "cell_type": "code",
      "metadata": {
        "id": "oLKtgXZO6WBe"
      },
      "source": [
        "# даны два вектора в виде массивов Numpy\n",
        "\n",
        "a = np.array([1.72, 54]) # вектор данных\n",
        "w = np.array([19.86, 0.05]) # вектор весов"
      ],
      "execution_count": 7,
      "outputs": []
    },
    {
      "cell_type": "code",
      "metadata": {
        "colab": {
          "base_uri": "https://localhost:8080/"
        },
        "id": "SvfwMrCN7AHp",
        "outputId": "c07d9f29-0b8b-45d3-894d-f4a8a1a5b5e0"
      },
      "source": [
        "# перемножим их вручную\n",
        "1.72 * 19.86 + 54 * 0.05"
      ],
      "execution_count": 8,
      "outputs": [
        {
          "output_type": "execute_result",
          "data": {
            "text/plain": [
              "36.8592"
            ]
          },
          "metadata": {},
          "execution_count": 8
        }
      ]
    },
    {
      "cell_type": "code",
      "metadata": {
        "colab": {
          "base_uri": "https://localhost:8080/"
        },
        "id": "ISUEBSne7FWX",
        "outputId": "6181187f-e9a1-4919-9b83-756e99c34eac"
      },
      "source": [
        "# используем скалярное произведение векторов\n",
        "np.dot(a, w)"
      ],
      "execution_count": 9,
      "outputs": [
        {
          "output_type": "execute_result",
          "data": {
            "text/plain": [
              "36.8592"
            ]
          },
          "metadata": {},
          "execution_count": 9
        }
      ]
    },
    {
      "cell_type": "markdown",
      "metadata": {
        "id": "1KeDIzMV9XyN"
      },
      "source": [
        "### Косинусное сходство между векторами"
      ]
    },
    {
      "cell_type": "markdown",
      "metadata": {
        "id": "-Wf32jTfA_H6"
      },
      "source": [
        "Первый шаг: найдем косинус угла по формуле $$ \\cos(\\theta )={\\mathbf {b} \\cdot \\mathbf {c} \\over \\|\\mathbf {b} \\|\\|\\mathbf {c} \\|} $$"
      ]
    },
    {
      "cell_type": "code",
      "metadata": {
        "id": "m08mssyx8_Ye"
      },
      "source": [
        "# даны два вектора (данные двух человек)\n",
        "# нам нужно понять, насколько они схожи\n",
        "b = np.array([1.72, 54, 36.2])\n",
        "c = np.array([1.56, 47, 30.0])"
      ],
      "execution_count": 10,
      "outputs": []
    },
    {
      "cell_type": "code",
      "metadata": {
        "id": "Z5MmrsTs_pTy"
      },
      "source": [
        "# вначале выполним операции в числителе формулы\n",
        "numerator = np.dot(b, c)"
      ],
      "execution_count": 11,
      "outputs": []
    },
    {
      "cell_type": "code",
      "metadata": {
        "id": "fdufBHKu_Fnc"
      },
      "source": [
        "# теперь займемся знаменателем и\n",
        "# (1) рассчитаем длины (по большому счету, это теорема Пифагора)\n",
        "bLen = np.linalg.norm(b)\n",
        "cLen = np.linalg.norm(c)\n",
        "\n",
        "# (2) перемножим их\n",
        "denominator = bLen * cLen"
      ],
      "execution_count": 12,
      "outputs": []
    },
    {
      "cell_type": "code",
      "metadata": {
        "colab": {
          "base_uri": "https://localhost:8080/"
        },
        "id": "rwtu1Ivn_XeJ",
        "outputId": "0f51ac7c-1a94-4434-eb40-c3b1739c68c2"
      },
      "source": [
        "# посмотрим, чему равен косинус угла между векторами\n",
        "cosine = numerator/denominator\n",
        "cosine"
      ],
      "execution_count": 13,
      "outputs": [
        {
          "output_type": "execute_result",
          "data": {
            "text/plain": [
              "0.9997468709497721"
            ]
          },
          "metadata": {},
          "execution_count": 13
        }
      ]
    },
    {
      "cell_type": "markdown",
      "metadata": {
        "id": "59IBUJS7BLGe"
      },
      "source": [
        "Второй шаг: найдем угол в градусах по его косинусу"
      ]
    },
    {
      "cell_type": "code",
      "metadata": {
        "id": "_Do9SMzhAW9N"
      },
      "source": [
        "# для этого вначале вычислим угол в радианах\n",
        "angle_radians = np.arccos(cosine)\n",
        "\n",
        "# затем в градусах\n",
        "angle_degrees = angle_radians * 360/2/np.pi"
      ],
      "execution_count": 14,
      "outputs": []
    },
    {
      "cell_type": "code",
      "metadata": {
        "colab": {
          "base_uri": "https://localhost:8080/"
        },
        "id": "3HdLzhUHB5PG",
        "outputId": "38da100d-cf84-46a1-bec9-a9b428678fdf"
      },
      "source": [
        "angle_degrees"
      ],
      "execution_count": 15,
      "outputs": [
        {
          "output_type": "execute_result",
          "data": {
            "text/plain": [
              "1.2891925481394304"
            ]
          },
          "metadata": {},
          "execution_count": 15
        }
      ]
    },
    {
      "cell_type": "markdown",
      "metadata": {
        "id": "dodmiVSKGLsf"
      },
      "source": [
        "### Упражнения"
      ]
    },
    {
      "cell_type": "code",
      "metadata": {
        "id": "MF0Kj8P-GNU-"
      },
      "source": [
        "# даны два вектора\n",
        "v1 = np.array([37, 84, 110.2, 18.6])\n",
        "v2 = np.array([5, 36, 199.6, 5.1])"
      ],
      "execution_count": 16,
      "outputs": []
    },
    {
      "cell_type": "markdown",
      "source": [
        "#### Основы работы с массивами"
      ],
      "metadata": {
        "id": "xhsK7v1O9fyx"
      }
    },
    {
      "cell_type": "markdown",
      "source": [
        "**Задание 1**. Посмотрите с помощью Питона на тип данных любого из двух векторов."
      ],
      "metadata": {
        "id": "9ijkO72o9QJS"
      }
    },
    {
      "cell_type": "code",
      "metadata": {
        "id": "gdGx3bHNKu51",
        "outputId": "0a1c94e8-14f0-4bfe-8fb2-d5e01f44c4fe",
        "colab": {
          "base_uri": "https://localhost:8080/"
        }
      },
      "source": [
        "type (v1), type(v2)"
      ],
      "execution_count": 17,
      "outputs": [
        {
          "output_type": "execute_result",
          "data": {
            "text/plain": [
              "(numpy.ndarray, numpy.ndarray)"
            ]
          },
          "metadata": {},
          "execution_count": 17
        }
      ]
    },
    {
      "cell_type": "markdown",
      "source": [
        "**Задание 2**. Какая размерность у этих векторов?"
      ],
      "metadata": {
        "id": "J7LbwCj29Zl4"
      }
    },
    {
      "cell_type": "code",
      "metadata": {
        "id": "VtQ1wpgdKnZP",
        "outputId": "0276ceb5-3a26-4a8b-8c40-7aa1a2708978",
        "colab": {
          "base_uri": "https://localhost:8080/"
        }
      },
      "source": [
        "v1.shape, v2.shape"
      ],
      "execution_count": 18,
      "outputs": [
        {
          "output_type": "execute_result",
          "data": {
            "text/plain": [
              "((4,), (4,))"
            ]
          },
          "metadata": {},
          "execution_count": 18
        }
      ]
    },
    {
      "cell_type": "markdown",
      "metadata": {
        "id": "K4Lh1OQCMijh"
      },
      "source": [
        "#### Скалярное произведение векторов"
      ]
    },
    {
      "cell_type": "markdown",
      "source": [
        "**Задание 3**. Перемножьте векторы `v1` и `v2` вручную."
      ],
      "metadata": {
        "id": "9RMXlYGE9lAs"
      }
    },
    {
      "cell_type": "code",
      "metadata": {
        "id": "fSIM8FiVMu6I",
        "outputId": "74ff5151-a7dc-4570-a1ca-1f636bf693a3",
        "colab": {
          "base_uri": "https://localhost:8080/"
        }
      },
      "source": [
        "37*5 + 84*36 + 110.2*199.6 + 18.6*5.1"
      ],
      "execution_count": 19,
      "outputs": [
        {
          "output_type": "execute_result",
          "data": {
            "text/plain": [
              "25299.78"
            ]
          },
          "metadata": {},
          "execution_count": 19
        }
      ]
    },
    {
      "cell_type": "markdown",
      "source": [
        "**Задание 4**. Используйте функцию **dot()**."
      ],
      "metadata": {
        "id": "vivmgULw9uDi"
      }
    },
    {
      "cell_type": "code",
      "metadata": {
        "id": "cmc6SgWXMykd",
        "outputId": "8c451234-371d-498c-a8ab-2e82d98b3a52",
        "colab": {
          "base_uri": "https://localhost:8080/"
        }
      },
      "source": [
        "np.dot(v1, v2)"
      ],
      "execution_count": 20,
      "outputs": [
        {
          "output_type": "execute_result",
          "data": {
            "text/plain": [
              "25299.78"
            ]
          },
          "metadata": {},
          "execution_count": 20
        }
      ]
    },
    {
      "cell_type": "markdown",
      "metadata": {
        "id": "ocls86JOM8kS"
      },
      "source": [
        "#### Косинусное сходство между векторами"
      ]
    },
    {
      "cell_type": "markdown",
      "source": [
        "**Задание 5**. Найдите угол в градусах между векторами `v1` и `v2`."
      ],
      "metadata": {
        "id": "kLRkxDh495dE"
      }
    },
    {
      "cell_type": "code",
      "metadata": {
        "id": "Xx8D1lLTNAw3",
        "outputId": "61455ba2-d788-467f-95c5-4c97af26c11a",
        "colab": {
          "base_uri": "https://localhost:8080/"
        }
      },
      "source": [
        "# операции в числителе формулы\n",
        "numerator = np.dot(v1, v2)\n",
        "\n",
        "# рассчитаем длины\n",
        "v1Len = np.linalg.norm(v1)\n",
        "v2Len = np.linalg.norm(v2)\n",
        "\n",
        "# (2) перемножим их\n",
        "denominator = v1Len * v2Len\n",
        "\n",
        "# косинус угла между векторами\n",
        "cosine = numerator/denominator\n",
        "cosine"
      ],
      "execution_count": 21,
      "outputs": [
        {
          "output_type": "execute_result",
          "data": {
            "text/plain": [
              "0.8619991430598012"
            ]
          },
          "metadata": {},
          "execution_count": 21
        }
      ]
    },
    {
      "cell_type": "code",
      "source": [
        "# вычислим угол в радианах\n",
        "angle_radians = np.arccos(cosine)\n",
        "\n",
        "# затем в градусах\n",
        "angle_degrees = angle_radians * 360/2/np.pi\n",
        "angle_degrees"
      ],
      "metadata": {
        "id": "wrFgnkFqdFPR",
        "outputId": "394534f8-79ca-44f5-f9af-70d82c2854e0",
        "colab": {
          "base_uri": "https://localhost:8080/"
        }
      },
      "execution_count": 22,
      "outputs": [
        {
          "output_type": "execute_result",
          "data": {
            "text/plain": [
              "30.458206946879134"
            ]
          },
          "metadata": {},
          "execution_count": 22
        }
      ]
    }
  ]
}