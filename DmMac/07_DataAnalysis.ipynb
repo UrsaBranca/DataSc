{
  "nbformat": 4,
  "nbformat_minor": 0,
  "metadata": {
    "colab": {
      "provenance": [],
      "toc_visible": true
    },
    "kernelspec": {
      "name": "python3",
      "display_name": "Python 3"
    },
    "language_info": {
      "name": "python"
    }
  },
  "cells": [
    {
      "cell_type": "markdown",
      "metadata": {
        "id": "DvHXx--MXR8Y"
      },
      "source": [
        "## Анализируем данные и строим графики"
      ]
    },
    {
      "cell_type": "markdown",
      "metadata": {
        "id": "OYIP3joDXXsP"
      },
      "source": [
        "### Библиотека Pandas"
      ]
    },
    {
      "cell_type": "code",
      "metadata": {
        "id": "-R3MIdljXK76"
      },
      "source": [
        "import pandas as pd"
      ],
      "execution_count": null,
      "outputs": []
    },
    {
      "cell_type": "code",
      "metadata": {
        "id": "Ol6bmS-yXb6c"
      },
      "source": [
        "bank_db = {\n",
        "    'Name' : ['Иван Иванович', 'Иван Петрович'],\n",
        "    'Age' : [0, 1],\n",
        "    'Experience' : [4, 7],\n",
        "    'Salary' : [75, 95],\n",
        "    'Credit_score' : [4, 8],\n",
        "    'Outcome' : [0, 1]\n",
        "}"
      ],
      "execution_count": null,
      "outputs": []
    },
    {
      "cell_type": "code",
      "metadata": {
        "id": "Pf11JjuYYXh1"
      },
      "source": [
        "df = pd.DataFrame(bank_db)"
      ],
      "execution_count": null,
      "outputs": []
    },
    {
      "cell_type": "code",
      "metadata": {
        "colab": {
          "base_uri": "https://localhost:8080/"
        },
        "id": "XkDTA664YRmw",
        "outputId": "cef65c95-c07d-40da-ad94-538e4fbb3196"
      },
      "source": [
        "print(df)"
      ],
      "execution_count": null,
      "outputs": [
        {
          "output_type": "stream",
          "text": [
            "            Name  Age  Experience  Salary  Credit_score  Outcome\n",
            "0  Иван Иванович    0           4      75             4        0\n",
            "1  Иван Петрович    1           7      95             8        1\n"
          ],
          "name": "stdout"
        }
      ]
    },
    {
      "cell_type": "code",
      "metadata": {
        "colab": {
          "base_uri": "https://localhost:8080/"
        },
        "id": "p75_vr2SYc1F",
        "outputId": "0955dd18-2791-49f3-b78a-2215deb591a1"
      },
      "source": [
        "# посчитаем средний доход заемщиков: (75 + 95) / 2\n",
        "df['Salary'].mean()"
      ],
      "execution_count": null,
      "outputs": [
        {
          "output_type": "execute_result",
          "data": {
            "text/plain": [
              "85.0"
            ]
          },
          "metadata": {
            "tags": []
          },
          "execution_count": 5
        }
      ]
    },
    {
      "cell_type": "markdown",
      "metadata": {
        "id": "jkEVJ1jChESx"
      },
      "source": [
        "### Библиотека Matplotlib"
      ]
    },
    {
      "cell_type": "code",
      "metadata": {
        "id": "DY-bCcJ5cN2U"
      },
      "source": [
        "import matplotlib.pyplot as plt"
      ],
      "execution_count": null,
      "outputs": []
    },
    {
      "cell_type": "code",
      "metadata": {
        "colab": {
          "base_uri": "https://localhost:8080/",
          "height": 295
        },
        "id": "3oUDf2HJhKgy",
        "outputId": "7c06df5c-bb61-4108-b4e2-754f210a38bc"
      },
      "source": [
        "# передаем функции plot() библиотеки Matplotlib два значения: доход и уровень счастья\n",
        "plt.plot([70, 80, 100, 150, 300], [1, 4, 6, 9, 16])\n",
        "\n",
        "# добавим подписи для наглядности\n",
        "plt.xlabel('Доход, тыс. рублей') # для оси x\n",
        "plt.ylabel('Счастье, вымышленные единицы') # для оси y\n",
        "plt.title('Счастье и уровень дохода') # заголовок\n",
        "\n",
        "plt.show() # посмотрим, что у нас получилось"
      ],
      "execution_count": null,
      "outputs": [
        {
          "output_type": "display_data",
          "data": {
            "image/png": "[encoded data removed]",
            "text/plain": [
              "<Figure size 432x288 with 1 Axes>"
            ]
          },
          "metadata": {
            "tags": [],
            "needs_background": "light"
          }
        }
      ]
    },
    {
      "cell_type": "markdown",
      "metadata": {
        "id": "q5YTyM0DJyly"
      },
      "source": [
        "#### Несколько слов про print() и plt.show()"
      ]
    },
    {
      "cell_type": "code",
      "metadata": {
        "id": "JfCvv8WzhQIu",
        "colab": {
          "base_uri": "https://localhost:8080/"
        },
        "outputId": "f02011de-b298-48a9-d038-65beb6239469"
      },
      "source": [
        "# две операции в одной ячейке без print()\n",
        "7 + 7\n",
        "8 + 4"
      ],
      "execution_count": null,
      "outputs": [
        {
          "output_type": "execute_result",
          "data": {
            "text/plain": [
              "12"
            ]
          },
          "metadata": {
            "tags": []
          },
          "execution_count": 8
        }
      ]
    },
    {
      "cell_type": "code",
      "metadata": {
        "colab": {
          "base_uri": "https://localhost:8080/"
        },
        "id": "iCk1ORVdI0K5",
        "outputId": "80a37bbd-2907-48cf-c485-a1548941dc68"
      },
      "source": [
        "# то же самое, но используя print()\n",
        "print(7 + 7)\n",
        "print(8 + 4)"
      ],
      "execution_count": null,
      "outputs": [
        {
          "output_type": "stream",
          "text": [
            "14\n",
            "12\n"
          ],
          "name": "stdout"
        }
      ]
    },
    {
      "cell_type": "code",
      "metadata": {
        "colab": {
          "base_uri": "https://localhost:8080/",
          "height": 282
        },
        "id": "RfWXmDSCI60I",
        "outputId": "160ba6c0-f121-491f-bf88-5b5361737306"
      },
      "source": [
        "# без plt.show()\n",
        "plt.plot([70, 80, 100, 150, 300], [1, 4, 6, 9, 16])\n",
        "plt.plot([39, 50, 80, 100, 200, 300], [1, 4, 7, 9, 18, 22])"
      ],
      "execution_count": null,
      "outputs": [
        {
          "output_type": "execute_result",
          "data": {
            "text/plain": [
              "[<matplotlib.lines.Line2D at 0x7f120f369790>]"
            ]
          },
          "metadata": {
            "tags": []
          },
          "execution_count": 10
        },
        {
          "output_type": "display_data",
          "data": {
            "image/png": "[encoded data removed]",
            "text/plain": [
              "<Figure size 432x288 with 1 Axes>"
            ]
          },
          "metadata": {
            "tags": [],
            "needs_background": "light"
          }
        }
      ]
    },
    {
      "cell_type": "code",
      "metadata": {
        "id": "jiE11ZnYJ-Eu",
        "colab": {
          "base_uri": "https://localhost:8080/",
          "height": 513
        },
        "outputId": "b6252ee6-c6c6-4ee3-a087-a0ddac7a64db"
      },
      "source": [
        "# то же самое, но используя plt.show()\n",
        "plt.plot([70, 80, 100, 150, 300], [1, 4, 6, 9, 16])\n",
        "plt.show()\n",
        "plt.plot([39, 50, 80, 100, 200, 300], [1, 4, 7, 9, 18, 22])\n",
        "plt.show()"
      ],
      "execution_count": null,
      "outputs": [
        {
          "output_type": "display_data",
          "data": {
            "image/png": "[encoded data removed]",
            "text/plain": [
              "<Figure size 432x288 with 1 Axes>"
            ]
          },
          "metadata": {
            "tags": [],
            "needs_background": "light"
          }
        },
        {
          "output_type": "display_data",
          "data": {
            "image/png": "[encoded data removed]",
            "text/plain": [
              "<Figure size 432x288 with 1 Axes>"
            ]
          },
          "metadata": {
            "tags": [],
            "needs_background": "light"
          }
        }
      ]
    },
    {
      "cell_type": "markdown",
      "metadata": {
        "id": "HYOZ_UYtENQC"
      },
      "source": [
        "### Упражнения"
      ]
    },
    {
      "cell_type": "markdown",
      "metadata": {
        "id": "5rDxGSInFnEe"
      },
      "source": [
        "#### Библиотека Pandas"
      ]
    },
    {
      "cell_type": "markdown",
      "source": [
        "**Задание 1**. Еще раз импортируйте библиотеку pandas под псевдонимом pd."
      ],
      "metadata": {
        "id": "3cge6YuLmGR7"
      }
    },
    {
      "cell_type": "code",
      "metadata": {
        "id": "n4hNiCQQ1n6Z"
      },
      "source": [],
      "execution_count": null,
      "outputs": []
    },
    {
      "cell_type": "markdown",
      "source": [
        "**Задание 2**. Возьмите словарь с данными о заемщиках, добавьте в него данные Алексея (их можно найти во [втором занятии](https://www.dmitrymakarov.ru/intro/principle-02/#9-vydavat-li-kredit-novomu-zaemshchiku)) и запишите получившийся словарь в переменную `new_bank_db`."
      ],
      "metadata": {
        "id": "Pfyfk6DxmP6x"
      }
    },
    {
      "cell_type": "code",
      "metadata": {
        "id": "wUPUwryJEat_"
      },
      "source": [],
      "execution_count": null,
      "outputs": []
    },
    {
      "cell_type": "markdown",
      "source": [
        "**Задание 3**. Преобразуйте словарь в датафрейм и выведите результат."
      ],
      "metadata": {
        "id": "qqJExsyfnkbJ"
      }
    },
    {
      "cell_type": "code",
      "metadata": {
        "id": "SKb-Wxa4Evhq"
      },
      "source": [],
      "execution_count": null,
      "outputs": []
    },
    {
      "cell_type": "markdown",
      "source": [
        "**Задание 4**. Вновь посчитайте средний доход заемщиков, изменился ли средний доход?"
      ],
      "metadata": {
        "id": "b7oMaa7Onr3t"
      }
    },
    {
      "cell_type": "code",
      "metadata": {
        "id": "zp3fHndYFKkB"
      },
      "source": [],
      "execution_count": null,
      "outputs": []
    },
    {
      "cell_type": "markdown",
      "metadata": {
        "id": "r-MCXWLfFqqF"
      },
      "source": [
        "#### Библиотека Matplotlib"
      ]
    },
    {
      "cell_type": "markdown",
      "source": [
        "**Задание 5**. Еще раз импортируйте модуль pyplot из библиотеки Matplotlib под псевдонимом plt."
      ],
      "metadata": {
        "id": "tDer5DFjn1WB"
      }
    },
    {
      "cell_type": "code",
      "metadata": {
        "id": "BYFVDskTFlb3"
      },
      "source": [],
      "execution_count": null,
      "outputs": []
    },
    {
      "cell_type": "markdown",
      "source": [
        "**Задание 6**. Постройте график отражающий время ходьбы в минутах и количество потраченных калорий. Воспользуйтесь приведенными ниже списками для минут и калорий соответственно. Не забудьте про заголовок графика, а также подписи к каждой из осей.\n"
      ],
      "metadata": {
        "id": "OhHXc07Zn_Ho"
      }
    },
    {
      "cell_type": "code",
      "metadata": {
        "id": "QeLpApI5F69a"
      },
      "source": [
        "minutes = [26, 42, 82]\n",
        "calories = [138, 229, 445]\n"
      ],
      "execution_count": null,
      "outputs": []
    }
  ]
}